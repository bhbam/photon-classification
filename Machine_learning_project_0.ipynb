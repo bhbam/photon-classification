{
 "cells": [
  {
   "cell_type": "markdown",
   "metadata": {},
   "source": [
    "# Photon Classification\n",
    "\n",
    "Photons in this analysis are identified using photon ID variables. However, other particles can also pass this ID. For example, a boosted jet can decay into two photons in such a way that they overlap within the resolution of the detector, mimicking a single photon signature and causing the jet to be misidentified as a (\"fake\") photon.\n",
    "\n",
    "We want to classify all particles passing the photon ID as either _real_ or _fake_:\n",
    "- Real photons ($y=0$)\n",
    "- Fake photons ($y=1$)"
   ]
  },
  {
   "cell_type": "code",
   "execution_count": 1,
   "metadata": {},
   "outputs": [],
   "source": [
    "import numpy as np\n",
    "import pandas as pd\n",
    "import matplotlib.pyplot as plt\n",
    "from matplotlib.lines import Line2D\n",
    "import seaborn as sns\n",
    "from scipy import stats\n",
    "import sklearn\n",
    "import sklearn.linear_model\n",
    "from sklearn import preprocessing\n",
    "from sklearn.neural_network import MLPClassifier\n",
    "from keras import Sequential\n",
    "from keras.layers import Dense"
   ]
  },
  {
   "cell_type": "markdown",
   "metadata": {},
   "source": [
    "## ROOT Data Format\n",
    "\n",
    "The data has been initially processed using the [CERN ROOT data analysis frame work](https://root.cern.ch) and is stored in trees using its TTree() data structure. Observe the following tree->branch->leaf format.\n",
    "\n",
    "<img src=\"images/root_tree_browser.png\" style=\"width:400px;height:400px;\">\n",
    "<caption><center> <u>Figure 1 </u>: ROOT TTree structure <br> </center></caption>\n",
    "\n",
    "This will be converted into a pandas DataFrame using [root_pandas](https://github.com/scikit-hep/root_pandas)."
   ]
  },
  {
   "cell_type": "code",
   "execution_count": 2,
   "metadata": {},
   "outputs": [
    {
     "data": {
      "text/plain": [
       "['diphoton;1',\n",
       " 'diphoton/fTree;29',\n",
       " 'diphoton/fTree;28',\n",
       " 'diphoton/fTreeFake;11',\n",
       " 'diphoton/fTreeFake;10']"
      ]
     },
     "execution_count": 2,
     "metadata": {},
     "output_type": "execute_result"
    }
   ],
   "source": [
    "import uproot\n",
    "file = uproot.open(\"out_GGJets_M-200To500_Pt-50_13TeV-sherpa_RunIIAutumn18MiniAOD-102X_upgrade2018_realistic_v15-v1_numEvent5000_1.root\")\n",
    "#ROOT files, directories, and trees are like Python dicts with keys() and values()\n",
    "file.keys()"
   ]
  },
  {
   "cell_type": "code",
   "execution_count": 3,
   "metadata": {},
   "outputs": [],
   "source": [
    "fTree = file['diphoton/fTree']\n",
    "fTreeFake = file['diphoton/fTreeFake']\n",
    "\n",
    "\n"
   ]
  },
  {
   "cell_type": "code",
   "execution_count": 4,
   "metadata": {},
   "outputs": [
    {
     "data": {
      "text/plain": [
       "<TTree 'fTreeFake' (19 branches) at 0x7fb0a0ccaa00>"
      ]
     },
     "execution_count": 4,
     "metadata": {},
     "output_type": "execute_result"
    }
   ],
   "source": [
    "fTreeFake"
   ]
  },
  {
   "cell_type": "code",
   "execution_count": 5,
   "metadata": {},
   "outputs": [
    {
     "name": "stdout",
     "output_type": "stream",
     "text": [
      "name                 | typename                 | interpretation                \n",
      "---------------------+--------------------------+-------------------------------\n",
      "Event                | struct {int64_t run; ... | AsDtype(\"[('run', '>i8'), (...\n",
      "TriggerBit           | struct {int32_t HLT_A... | AsDtype(\"[('HLT_AK4PFDJet60...\n",
      "TriggerPrescale      | struct {int32_t HLT_A... | AsDtype(\"[('HLT_AK4PFDJet60...\n",
      "Jet                  | struct {float jetHT; ... | AsDtype(\"[('jetHT', '>f4'),...\n",
      "Photon               | struct {double pt; do... | AsDtype(\"[('pt', '>f8'), ('...\n",
      "PhotonGenMatch       | struct {double pt; do... | AsDtype(\"[('pt', '>f8'), ('...\n",
      "PhotonGenParent      | struct {double pt; do... | AsDtype(\"[('pt', '>f8'), ('...\n",
      "GenMatchPt           | std::vector<double>      | AsJagged(AsDtype('>f8'), he...\n",
      "GenMatchEta          | std::vector<double>      | AsJagged(AsDtype('>f8'), he...\n",
      "GenMatchPhi          | std::vector<double>      | AsJagged(AsDtype('>f8'), he...\n",
      "GenMatchPdgId        | std::vector<double>      | AsJagged(AsDtype('>f8'), he...\n",
      "GenMatchDeltaR       | std::vector<double>      | AsJagged(AsDtype('>f8'), he...\n",
      "GenMatchPtDiff       | std::vector<double>      | AsJagged(AsDtype('>f8'), he...\n",
      "GenMatchNumMothers   | std::vector<double>      | AsJagged(AsDtype('>f8'), he...\n",
      "GenMatchMotherPt     | std::vector<double>      | AsJagged(AsDtype('>f8'), he...\n",
      "GenMatchMotherEta    | std::vector<double>      | AsJagged(AsDtype('>f8'), he...\n",
      "GenMatchMotherPhi    | std::vector<double>      | AsJagged(AsDtype('>f8'), he...\n",
      "GenMatchMotherStatus | std::vector<double>      | AsJagged(AsDtype('>f8'), he...\n",
      "GenMatchMotherPdgId  | std::vector<double>      | AsJagged(AsDtype('>f8'), he...\n"
     ]
    }
   ],
   "source": [
    "fTreeFake.show()"
   ]
  },
  {
   "cell_type": "markdown",
   "metadata": {},
   "source": [
    "## Simulated Data\n",
    "\n",
    "The dataset has been constructed using Monte Carlo simulation. The particle collisions and interactions have been generated using [PYTHIA 8](http://home.thep.lu.se/~torbjorn/Pythia.html) and simulated through the [CMS detector](https://cms.cern) using [Geant4](https://geant4.web.cern.ch). This simulation allows us to label all particles passing the photon ID as either real or fake. Note, for actual detector data we do not have this luxury."
   ]
  },
  {
   "cell_type": "code",
   "execution_count": 6,
   "metadata": {},
   "outputs": [],
   "source": [
    "df = fTreeFake.arrays(filter_name=['Photon','Event','PhotonGenMatch'], library = 'pd')"
   ]
  },
  {
   "cell_type": "code",
   "execution_count": 7,
   "metadata": {},
   "outputs": [
    {
     "data": {
      "text/html": [
       "<div>\n",
       "<style scoped>\n",
       "    .dataframe tbody tr th:only-of-type {\n",
       "        vertical-align: middle;\n",
       "    }\n",
       "\n",
       "    .dataframe tbody tr th {\n",
       "        vertical-align: top;\n",
       "    }\n",
       "\n",
       "    .dataframe thead tr th {\n",
       "        text-align: left;\n",
       "    }\n",
       "</style>\n",
       "<table border=\"1\" class=\"dataframe\">\n",
       "  <thead>\n",
       "    <tr>\n",
       "      <th></th>\n",
       "      <th colspan=\"10\" halign=\"left\">Event</th>\n",
       "      <th>...</th>\n",
       "      <th colspan=\"10\" halign=\"left\">PhotonGenMatch</th>\n",
       "    </tr>\n",
       "    <tr>\n",
       "      <th></th>\n",
       "      <th>run</th>\n",
       "      <th>LS</th>\n",
       "      <th>evnum</th>\n",
       "      <th>processid</th>\n",
       "      <th>bx</th>\n",
       "      <th>orbit</th>\n",
       "      <th>ptHat</th>\n",
       "      <th>alphaqcd</th>\n",
       "      <th>alphaqed</th>\n",
       "      <th>qscale</th>\n",
       "      <th>...</th>\n",
       "      <th>ptDiff_match</th>\n",
       "      <th>matchCategory</th>\n",
       "      <th>matchType</th>\n",
       "      <th>nPhotonMotherDaughters</th>\n",
       "      <th>status</th>\n",
       "      <th>motherStatus</th>\n",
       "      <th>grandmotherStatus</th>\n",
       "      <th>pdgId</th>\n",
       "      <th>motherPdgId</th>\n",
       "      <th>grandmotherPdgId</th>\n",
       "    </tr>\n",
       "  </thead>\n",
       "  <tbody>\n",
       "    <tr>\n",
       "      <th>0</th>\n",
       "      <td>1</td>\n",
       "      <td>121</td>\n",
       "      <td>120002</td>\n",
       "      <td>0</td>\n",
       "      <td>-1</td>\n",
       "      <td>-1</td>\n",
       "      <td>0.0</td>\n",
       "      <td>0.153054</td>\n",
       "      <td>0.007764</td>\n",
       "      <td>311.850891</td>\n",
       "      <td>...</td>\n",
       "      <td>0.036081</td>\n",
       "      <td>1</td>\n",
       "      <td>8</td>\n",
       "      <td>-999999</td>\n",
       "      <td>1</td>\n",
       "      <td>11</td>\n",
       "      <td>3</td>\n",
       "      <td>22</td>\n",
       "      <td>22</td>\n",
       "      <td>22</td>\n",
       "    </tr>\n",
       "    <tr>\n",
       "      <th>1</th>\n",
       "      <td>1</td>\n",
       "      <td>121</td>\n",
       "      <td>120010</td>\n",
       "      <td>0</td>\n",
       "      <td>-1</td>\n",
       "      <td>-1</td>\n",
       "      <td>0.0</td>\n",
       "      <td>0.135724</td>\n",
       "      <td>0.007764</td>\n",
       "      <td>222.393845</td>\n",
       "      <td>...</td>\n",
       "      <td>0.031270</td>\n",
       "      <td>1</td>\n",
       "      <td>8</td>\n",
       "      <td>-999999</td>\n",
       "      <td>1</td>\n",
       "      <td>11</td>\n",
       "      <td>3</td>\n",
       "      <td>22</td>\n",
       "      <td>22</td>\n",
       "      <td>22</td>\n",
       "    </tr>\n",
       "    <tr>\n",
       "      <th>2</th>\n",
       "      <td>1</td>\n",
       "      <td>121</td>\n",
       "      <td>120009</td>\n",
       "      <td>0</td>\n",
       "      <td>-1</td>\n",
       "      <td>-1</td>\n",
       "      <td>0.0</td>\n",
       "      <td>0.104595</td>\n",
       "      <td>0.007764</td>\n",
       "      <td>219.131256</td>\n",
       "      <td>...</td>\n",
       "      <td>0.019475</td>\n",
       "      <td>1</td>\n",
       "      <td>8</td>\n",
       "      <td>-999999</td>\n",
       "      <td>1</td>\n",
       "      <td>11</td>\n",
       "      <td>3</td>\n",
       "      <td>22</td>\n",
       "      <td>22</td>\n",
       "      <td>22</td>\n",
       "    </tr>\n",
       "    <tr>\n",
       "      <th>3</th>\n",
       "      <td>1</td>\n",
       "      <td>121</td>\n",
       "      <td>120009</td>\n",
       "      <td>0</td>\n",
       "      <td>-1</td>\n",
       "      <td>-1</td>\n",
       "      <td>0.0</td>\n",
       "      <td>0.104595</td>\n",
       "      <td>0.007764</td>\n",
       "      <td>219.131256</td>\n",
       "      <td>...</td>\n",
       "      <td>0.018719</td>\n",
       "      <td>1</td>\n",
       "      <td>8</td>\n",
       "      <td>-999999</td>\n",
       "      <td>1</td>\n",
       "      <td>11</td>\n",
       "      <td>3</td>\n",
       "      <td>22</td>\n",
       "      <td>22</td>\n",
       "      <td>22</td>\n",
       "    </tr>\n",
       "    <tr>\n",
       "      <th>4</th>\n",
       "      <td>1</td>\n",
       "      <td>121</td>\n",
       "      <td>120003</td>\n",
       "      <td>0</td>\n",
       "      <td>-1</td>\n",
       "      <td>-1</td>\n",
       "      <td>0.0</td>\n",
       "      <td>0.136504</td>\n",
       "      <td>0.007764</td>\n",
       "      <td>207.125778</td>\n",
       "      <td>...</td>\n",
       "      <td>0.005878</td>\n",
       "      <td>1</td>\n",
       "      <td>8</td>\n",
       "      <td>-999999</td>\n",
       "      <td>1</td>\n",
       "      <td>11</td>\n",
       "      <td>3</td>\n",
       "      <td>22</td>\n",
       "      <td>22</td>\n",
       "      <td>22</td>\n",
       "    </tr>\n",
       "    <tr>\n",
       "      <th>...</th>\n",
       "      <td>...</td>\n",
       "      <td>...</td>\n",
       "      <td>...</td>\n",
       "      <td>...</td>\n",
       "      <td>...</td>\n",
       "      <td>...</td>\n",
       "      <td>...</td>\n",
       "      <td>...</td>\n",
       "      <td>...</td>\n",
       "      <td>...</td>\n",
       "      <td>...</td>\n",
       "      <td>...</td>\n",
       "      <td>...</td>\n",
       "      <td>...</td>\n",
       "      <td>...</td>\n",
       "      <td>...</td>\n",
       "      <td>...</td>\n",
       "      <td>...</td>\n",
       "      <td>...</td>\n",
       "      <td>...</td>\n",
       "      <td>...</td>\n",
       "    </tr>\n",
       "    <tr>\n",
       "      <th>555255</th>\n",
       "      <td>1</td>\n",
       "      <td>1370</td>\n",
       "      <td>1369993</td>\n",
       "      <td>0</td>\n",
       "      <td>-1</td>\n",
       "      <td>-1</td>\n",
       "      <td>0.0</td>\n",
       "      <td>0.126107</td>\n",
       "      <td>0.007764</td>\n",
       "      <td>557.704285</td>\n",
       "      <td>...</td>\n",
       "      <td>0.010144</td>\n",
       "      <td>1</td>\n",
       "      <td>8</td>\n",
       "      <td>-999999</td>\n",
       "      <td>1</td>\n",
       "      <td>11</td>\n",
       "      <td>3</td>\n",
       "      <td>22</td>\n",
       "      <td>22</td>\n",
       "      <td>22</td>\n",
       "    </tr>\n",
       "    <tr>\n",
       "      <th>555256</th>\n",
       "      <td>1</td>\n",
       "      <td>1370</td>\n",
       "      <td>1369999</td>\n",
       "      <td>0</td>\n",
       "      <td>-1</td>\n",
       "      <td>-1</td>\n",
       "      <td>0.0</td>\n",
       "      <td>0.126895</td>\n",
       "      <td>0.007764</td>\n",
       "      <td>433.067841</td>\n",
       "      <td>...</td>\n",
       "      <td>0.016530</td>\n",
       "      <td>1</td>\n",
       "      <td>8</td>\n",
       "      <td>-999999</td>\n",
       "      <td>1</td>\n",
       "      <td>11</td>\n",
       "      <td>3</td>\n",
       "      <td>22</td>\n",
       "      <td>22</td>\n",
       "      <td>22</td>\n",
       "    </tr>\n",
       "    <tr>\n",
       "      <th>555257</th>\n",
       "      <td>1</td>\n",
       "      <td>1370</td>\n",
       "      <td>1369989</td>\n",
       "      <td>0</td>\n",
       "      <td>-1</td>\n",
       "      <td>-1</td>\n",
       "      <td>0.0</td>\n",
       "      <td>0.111424</td>\n",
       "      <td>0.007764</td>\n",
       "      <td>581.910706</td>\n",
       "      <td>...</td>\n",
       "      <td>0.017775</td>\n",
       "      <td>1</td>\n",
       "      <td>8</td>\n",
       "      <td>-999999</td>\n",
       "      <td>1</td>\n",
       "      <td>11</td>\n",
       "      <td>3</td>\n",
       "      <td>22</td>\n",
       "      <td>22</td>\n",
       "      <td>22</td>\n",
       "    </tr>\n",
       "    <tr>\n",
       "      <th>555258</th>\n",
       "      <td>1</td>\n",
       "      <td>1370</td>\n",
       "      <td>1370000</td>\n",
       "      <td>0</td>\n",
       "      <td>-1</td>\n",
       "      <td>-1</td>\n",
       "      <td>0.0</td>\n",
       "      <td>0.137363</td>\n",
       "      <td>0.007764</td>\n",
       "      <td>128.794662</td>\n",
       "      <td>...</td>\n",
       "      <td>0.008288</td>\n",
       "      <td>1</td>\n",
       "      <td>8</td>\n",
       "      <td>-999999</td>\n",
       "      <td>1</td>\n",
       "      <td>11</td>\n",
       "      <td>3</td>\n",
       "      <td>22</td>\n",
       "      <td>22</td>\n",
       "      <td>22</td>\n",
       "    </tr>\n",
       "    <tr>\n",
       "      <th>555259</th>\n",
       "      <td>1</td>\n",
       "      <td>1370</td>\n",
       "      <td>1370000</td>\n",
       "      <td>0</td>\n",
       "      <td>-1</td>\n",
       "      <td>-1</td>\n",
       "      <td>0.0</td>\n",
       "      <td>0.137363</td>\n",
       "      <td>0.007764</td>\n",
       "      <td>128.794662</td>\n",
       "      <td>...</td>\n",
       "      <td>0.026105</td>\n",
       "      <td>1</td>\n",
       "      <td>8</td>\n",
       "      <td>-999999</td>\n",
       "      <td>1</td>\n",
       "      <td>11</td>\n",
       "      <td>3</td>\n",
       "      <td>22</td>\n",
       "      <td>22</td>\n",
       "      <td>22</td>\n",
       "    </tr>\n",
       "  </tbody>\n",
       "</table>\n",
       "<p>555260 rows × 124 columns</p>\n",
       "</div>"
      ],
      "text/plain": [
       "       Event                                                              \\\n",
       "         run    LS    evnum processid bx orbit ptHat  alphaqcd  alphaqed   \n",
       "0          1   121   120002         0 -1    -1   0.0  0.153054  0.007764   \n",
       "1          1   121   120010         0 -1    -1   0.0  0.135724  0.007764   \n",
       "2          1   121   120009         0 -1    -1   0.0  0.104595  0.007764   \n",
       "3          1   121   120009         0 -1    -1   0.0  0.104595  0.007764   \n",
       "4          1   121   120003         0 -1    -1   0.0  0.136504  0.007764   \n",
       "...      ...   ...      ...       ... ..   ...   ...       ...       ...   \n",
       "555255     1  1370  1369993         0 -1    -1   0.0  0.126107  0.007764   \n",
       "555256     1  1370  1369999         0 -1    -1   0.0  0.126895  0.007764   \n",
       "555257     1  1370  1369989         0 -1    -1   0.0  0.111424  0.007764   \n",
       "555258     1  1370  1370000         0 -1    -1   0.0  0.137363  0.007764   \n",
       "555259     1  1370  1370000         0 -1    -1   0.0  0.137363  0.007764   \n",
       "\n",
       "                    ... PhotonGenMatch                          \\\n",
       "            qscale  ...   ptDiff_match matchCategory matchType   \n",
       "0       311.850891  ...       0.036081             1         8   \n",
       "1       222.393845  ...       0.031270             1         8   \n",
       "2       219.131256  ...       0.019475             1         8   \n",
       "3       219.131256  ...       0.018719             1         8   \n",
       "4       207.125778  ...       0.005878             1         8   \n",
       "...            ...  ...            ...           ...       ...   \n",
       "555255  557.704285  ...       0.010144             1         8   \n",
       "555256  433.067841  ...       0.016530             1         8   \n",
       "555257  581.910706  ...       0.017775             1         8   \n",
       "555258  128.794662  ...       0.008288             1         8   \n",
       "555259  128.794662  ...       0.026105             1         8   \n",
       "\n",
       "                                                                           \\\n",
       "       nPhotonMotherDaughters status motherStatus grandmotherStatus pdgId   \n",
       "0                     -999999      1           11                 3    22   \n",
       "1                     -999999      1           11                 3    22   \n",
       "2                     -999999      1           11                 3    22   \n",
       "3                     -999999      1           11                 3    22   \n",
       "4                     -999999      1           11                 3    22   \n",
       "...                       ...    ...          ...               ...   ...   \n",
       "555255                -999999      1           11                 3    22   \n",
       "555256                -999999      1           11                 3    22   \n",
       "555257                -999999      1           11                 3    22   \n",
       "555258                -999999      1           11                 3    22   \n",
       "555259                -999999      1           11                 3    22   \n",
       "\n",
       "                                     \n",
       "       motherPdgId grandmotherPdgId  \n",
       "0               22               22  \n",
       "1               22               22  \n",
       "2               22               22  \n",
       "3               22               22  \n",
       "4               22               22  \n",
       "...            ...              ...  \n",
       "555255          22               22  \n",
       "555256          22               22  \n",
       "555257          22               22  \n",
       "555258          22               22  \n",
       "555259          22               22  \n",
       "\n",
       "[555260 rows x 124 columns]"
      ]
     },
     "execution_count": 7,
     "metadata": {},
     "output_type": "execute_result"
    }
   ],
   "source": [
    "df"
   ]
  },
  {
   "cell_type": "code",
   "execution_count": 8,
   "metadata": {},
   "outputs": [
    {
     "name": "stdout",
     "output_type": "stream",
     "text": [
      "<class 'pandas.core.frame.DataFrame'>\n",
      "RangeIndex: 555260 entries, 0 to 555259\n",
      "Columns: 124 entries, ('Event', 'run') to ('PhotonGenMatch', 'grandmotherPdgId')\n",
      "dtypes: bool(26), float32(38), float64(40), int32(14), int64(6)\n",
      "memory usage: 318.8 MB\n"
     ]
    }
   ],
   "source": [
    "df.info()"
   ]
  },
  {
   "cell_type": "code",
   "execution_count": 9,
   "metadata": {},
   "outputs": [
    {
     "name": "stdout",
     "output_type": "stream",
     "text": [
      "<class 'pandas.core.frame.DataFrame'>\n",
      "RangeIndex: 555260 entries, 0 to 555259\n",
      "Data columns (total 29 columns):\n",
      " #   Column                   Non-Null Count   Dtype  \n",
      "---  ------                   --------------   -----  \n",
      " 0   run                      555260 non-null  int64  \n",
      " 1   LS                       555260 non-null  int64  \n",
      " 2   evnum                    555260 non-null  int64  \n",
      " 3   processid                555260 non-null  int64  \n",
      " 4   bx                       555260 non-null  int64  \n",
      " 5   orbit                    555260 non-null  int64  \n",
      " 6   ptHat                    555260 non-null  float32\n",
      " 7   alphaqcd                 555260 non-null  float32\n",
      " 8   alphaqed                 555260 non-null  float32\n",
      " 9   qscale                   555260 non-null  float32\n",
      " 10  x1                       555260 non-null  float32\n",
      " 11  x2                       555260 non-null  float32\n",
      " 12  pdf1                     555260 non-null  float32\n",
      " 13  pdf2                     555260 non-null  float32\n",
      " 14  weight0                  555260 non-null  float32\n",
      " 15  weight                   555260 non-null  float32\n",
      " 16  weightPuUp               555260 non-null  float32\n",
      " 17  weightPu                 555260 non-null  float32\n",
      " 18  weightPuDown             555260 non-null  float32\n",
      " 19  weightLumi               555260 non-null  float32\n",
      " 20  weightAll                555260 non-null  float32\n",
      " 21  interactingParton1PdgId  555260 non-null  int32  \n",
      " 22  interactingParton2PdgId  555260 non-null  int32  \n",
      " 23  pdf_id1                  555260 non-null  int32  \n",
      " 24  pdf_id2                  555260 non-null  int32  \n",
      " 25  npv_true                 555260 non-null  int32  \n",
      " 26  beamHaloIDLoose          555260 non-null  bool   \n",
      " 27  beamHaloIDTight          555260 non-null  bool   \n",
      " 28  beamHaloIDTight2015      555260 non-null  bool   \n",
      "dtypes: bool(3), float32(15), int32(5), int64(6)\n",
      "memory usage: 69.4 MB\n",
      "<class 'pandas.core.frame.DataFrame'>\n",
      "RangeIndex: 555260 entries, 0 to 555259\n",
      "Data columns (total 80 columns):\n",
      " #   Column                 Non-Null Count   Dtype  \n",
      "---  ------                 --------------   -----  \n",
      " 0   pt                     555260 non-null  float64\n",
      " 1   eta                    555260 non-null  float64\n",
      " 2   phi                    555260 non-null  float64\n",
      " 3   scEta                  555260 non-null  float64\n",
      " 4   scPhi                  555260 non-null  float64\n",
      " 5   rho                    555260 non-null  float64\n",
      " 6   chargedHadIso03        555260 non-null  float64\n",
      " 7   neutralHadIso03        555260 non-null  float64\n",
      " 8   photonIso03            555260 non-null  float64\n",
      " 9   rhoCorChargedHadIso03  555260 non-null  float64\n",
      " 10  rhoCorNeutralHadIso03  555260 non-null  float64\n",
      " 11  rhoCorPhotonIso03      555260 non-null  float64\n",
      " 12  corPhotonIso03         555260 non-null  float64\n",
      " 13  hadTowerOverEm         555260 non-null  float64\n",
      " 14  hadronicOverEm         555260 non-null  float64\n",
      " 15  r9                     555260 non-null  float64\n",
      " 16  r9_5x5                 555260 non-null  float64\n",
      " 17  sigmaIetaIeta          555260 non-null  float64\n",
      " 18  sigmaIetaIeta5x5       555260 non-null  float64\n",
      " 19  sigmaEtaEta            555260 non-null  float64\n",
      " 20  sigmaIphiIphi          555260 non-null  float64\n",
      " 21  sigmaIphiIphi5x5       555260 non-null  float64\n",
      " 22  sigmaIetaIphi          555260 non-null  float64\n",
      " 23  sigmaIetaIphi5x5       555260 non-null  float64\n",
      " 24  maxEnergyXtal          555260 non-null  float64\n",
      " 25  iEta                   555260 non-null  float64\n",
      " 26  iPhi                   555260 non-null  float64\n",
      " 27  alphaHighPtID          555260 non-null  float64\n",
      " 28  kappaHighPtID          555260 non-null  float64\n",
      " 29  phoEAHighPtID          555260 non-null  float64\n",
      " 30  chEAegmID              555260 non-null  float64\n",
      " 31  nhEAegmID              555260 non-null  float64\n",
      " 32  phoEAegmID             555260 non-null  float64\n",
      " 33  rapidity               555260 non-null  float64\n",
      " 34  ecalEnergyPreCorr      555260 non-null  float32\n",
      " 35  ecalEnergyErrPreCorr   555260 non-null  float32\n",
      " 36  ecalEnergyPostCorr     555260 non-null  float32\n",
      " 37  ecalEnergyErrPostCorr  555260 non-null  float32\n",
      " 38  energyScaleValue       555260 non-null  float32\n",
      " 39  energySigmaValue       555260 non-null  float32\n",
      " 40  energySmearNrSigma     555260 non-null  float32\n",
      " 41  energyScaleUp          555260 non-null  float32\n",
      " 42  energyScaleDown        555260 non-null  float32\n",
      " 43  energyScaleStatUp      555260 non-null  float32\n",
      " 44  energyScaleStatDown    555260 non-null  float32\n",
      " 45  energyScaleSystUp      555260 non-null  float32\n",
      " 46  energyScaleSystDown    555260 non-null  float32\n",
      " 47  energyScaleGainUp      555260 non-null  float32\n",
      " 48  energyScaleGainDown    555260 non-null  float32\n",
      " 49  energyScaleEtUp        555260 non-null  float32\n",
      " 50  energyScaleEtDown      555260 non-null  float32\n",
      " 51  energySigmaUp          555260 non-null  float32\n",
      " 52  energySigmaDown        555260 non-null  float32\n",
      " 53  energySigmaPhiUp       555260 non-null  float32\n",
      " 54  energySigmaPhiDown     555260 non-null  float32\n",
      " 55  energySigmaRhoUp       555260 non-null  float32\n",
      " 56  energySigmaRhoDown     555260 non-null  float32\n",
      " 57  passEGMLooseID         555260 non-null  bool   \n",
      " 58  passEGMMediumID        555260 non-null  bool   \n",
      " 59  passEGMTightID         555260 non-null  bool   \n",
      " 60  isEB                   555260 non-null  bool   \n",
      " 61  isEE                   555260 non-null  bool   \n",
      " 62  isEBEtaGap             555260 non-null  bool   \n",
      " 63  isEBPhiGap             555260 non-null  bool   \n",
      " 64  isEERingGap            555260 non-null  bool   \n",
      " 65  isEEDeeGap             555260 non-null  bool   \n",
      " 66  isEBEEGap              555260 non-null  bool   \n",
      " 67  passElectronVeto       555260 non-null  bool   \n",
      " 68  passHTowOverE          555260 non-null  bool   \n",
      " 69  passChIso              555260 non-null  bool   \n",
      " 70  passCorPhoIso          555260 non-null  bool   \n",
      " 71  passSieie              555260 non-null  bool   \n",
      " 72  passHighPtID           555260 non-null  bool   \n",
      " 73  passChIsoDenom         555260 non-null  bool   \n",
      " 74  passCorPhoIsoDenom     555260 non-null  bool   \n",
      " 75  isFakeable             555260 non-null  bool   \n",
      " 76  isNumeratorObjCand     555260 non-null  bool   \n",
      " 77  isDenominatorObj       555260 non-null  bool   \n",
      " 78  isSaturated            555260 non-null  bool   \n",
      " 79  isMCTruthFake          555260 non-null  bool   \n",
      "dtypes: bool(23), float32(23), float64(34)\n",
      "memory usage: 204.9 MB\n",
      "<class 'pandas.core.frame.DataFrame'>\n",
      "RangeIndex: 555260 entries, 0 to 555259\n",
      "Data columns (total 15 columns):\n",
      " #   Column                  Non-Null Count   Dtype  \n",
      "---  ------                  --------------   -----  \n",
      " 0   pt                      555260 non-null  float64\n",
      " 1   eta                     555260 non-null  float64\n",
      " 2   phi                     555260 non-null  float64\n",
      " 3   deltaR_match            555260 non-null  float64\n",
      " 4   deltaR_matchDau         555260 non-null  float64\n",
      " 5   ptDiff_match            555260 non-null  float64\n",
      " 6   matchCategory           555260 non-null  int32  \n",
      " 7   matchType               555260 non-null  int32  \n",
      " 8   nPhotonMotherDaughters  555260 non-null  int32  \n",
      " 9   status                  555260 non-null  int32  \n",
      " 10  motherStatus            555260 non-null  int32  \n",
      " 11  grandmotherStatus       555260 non-null  int32  \n",
      " 12  pdgId                   555260 non-null  int32  \n",
      " 13  motherPdgId             555260 non-null  int32  \n",
      " 14  grandmotherPdgId        555260 non-null  int32  \n",
      "dtypes: float64(6), int32(9)\n",
      "memory usage: 44.5 MB\n"
     ]
    },
    {
     "data": {
      "text/plain": [
       "(None, None, None)"
      ]
     },
     "execution_count": 9,
     "metadata": {},
     "output_type": "execute_result"
    }
   ],
   "source": [
    "df['Event'].info(), df['Photon'].info(), df['PhotonGenMatch'].info()"
   ]
  },
  {
   "cell_type": "markdown",
   "metadata": {},
   "source": [
    "- By construction, there are no NULL values. Let's sanity check this.\n",
    "- Initially, there are $m = 443,783$ examples. Some preprocessing is in order though."
   ]
  },
  {
   "cell_type": "code",
   "execution_count": 10,
   "metadata": {},
   "outputs": [],
   "source": [
    "#df.describe(include='all')"
   ]
  },
  {
   "cell_type": "code",
   "execution_count": 11,
   "metadata": {},
   "outputs": [
    {
     "data": {
      "text/plain": [
       "0"
      ]
     },
     "execution_count": 11,
     "metadata": {},
     "output_type": "execute_result"
    }
   ],
   "source": [
    "df.isnull().sum().sum()"
   ]
  },
  {
   "cell_type": "code",
   "execution_count": 12,
   "metadata": {},
   "outputs": [
    {
     "data": {
      "text/plain": [
       "555260"
      ]
     },
     "execution_count": 12,
     "metadata": {},
     "output_type": "execute_result"
    }
   ],
   "source": [
    "len(df)"
   ]
  },
  {
   "cell_type": "code",
   "execution_count": 13,
   "metadata": {},
   "outputs": [
    {
     "data": {
      "text/plain": [
       "MultiIndex([(         'Event',                    'run'),\n",
       "            (         'Event',                     'LS'),\n",
       "            (         'Event',                  'evnum'),\n",
       "            (         'Event',              'processid'),\n",
       "            (         'Event',                     'bx'),\n",
       "            (         'Event',                  'orbit'),\n",
       "            (         'Event',                  'ptHat'),\n",
       "            (         'Event',               'alphaqcd'),\n",
       "            (         'Event',               'alphaqed'),\n",
       "            (         'Event',                 'qscale'),\n",
       "            ...\n",
       "            ('PhotonGenMatch',           'ptDiff_match'),\n",
       "            ('PhotonGenMatch',          'matchCategory'),\n",
       "            ('PhotonGenMatch',              'matchType'),\n",
       "            ('PhotonGenMatch', 'nPhotonMotherDaughters'),\n",
       "            ('PhotonGenMatch',                 'status'),\n",
       "            ('PhotonGenMatch',           'motherStatus'),\n",
       "            ('PhotonGenMatch',      'grandmotherStatus'),\n",
       "            ('PhotonGenMatch',                  'pdgId'),\n",
       "            ('PhotonGenMatch',            'motherPdgId'),\n",
       "            ('PhotonGenMatch',       'grandmotherPdgId')],\n",
       "           length=124)"
      ]
     },
     "execution_count": 13,
     "metadata": {},
     "output_type": "execute_result"
    }
   ],
   "source": [
    "df.columns"
   ]
  },
  {
   "cell_type": "code",
   "execution_count": 14,
   "metadata": {},
   "outputs": [
    {
     "name": "stdout",
     "output_type": "stream",
     "text": [
      "<class 'pandas.core.frame.DataFrame'>\n",
      "RangeIndex: 555260 entries, 0 to 555259\n",
      "Columns: 124 entries, ('Event', 'run') to ('PhotonGenMatch', 'grandmotherPdgId')\n",
      "dtypes: bool(26), float32(38), float64(40), int32(14), int64(6)\n",
      "memory usage: 318.8 MB\n"
     ]
    }
   ],
   "source": [
    "df[('Photon','pt')]\n",
    "df.info()"
   ]
  },
  {
   "cell_type": "code",
   "execution_count": 15,
   "metadata": {},
   "outputs": [
    {
     "data": {
      "text/html": [
       "<div>\n",
       "<style scoped>\n",
       "    .dataframe tbody tr th:only-of-type {\n",
       "        vertical-align: middle;\n",
       "    }\n",
       "\n",
       "    .dataframe tbody tr th {\n",
       "        vertical-align: top;\n",
       "    }\n",
       "\n",
       "    .dataframe thead tr th {\n",
       "        text-align: left;\n",
       "    }\n",
       "</style>\n",
       "<table border=\"1\" class=\"dataframe\">\n",
       "  <thead>\n",
       "    <tr>\n",
       "      <th></th>\n",
       "      <th colspan=\"10\" halign=\"left\">Event</th>\n",
       "      <th>...</th>\n",
       "      <th colspan=\"10\" halign=\"left\">PhotonGenMatch</th>\n",
       "    </tr>\n",
       "    <tr>\n",
       "      <th></th>\n",
       "      <th>run</th>\n",
       "      <th>LS</th>\n",
       "      <th>evnum</th>\n",
       "      <th>processid</th>\n",
       "      <th>bx</th>\n",
       "      <th>orbit</th>\n",
       "      <th>ptHat</th>\n",
       "      <th>alphaqcd</th>\n",
       "      <th>alphaqed</th>\n",
       "      <th>qscale</th>\n",
       "      <th>...</th>\n",
       "      <th>ptDiff_match</th>\n",
       "      <th>matchCategory</th>\n",
       "      <th>matchType</th>\n",
       "      <th>nPhotonMotherDaughters</th>\n",
       "      <th>status</th>\n",
       "      <th>motherStatus</th>\n",
       "      <th>grandmotherStatus</th>\n",
       "      <th>pdgId</th>\n",
       "      <th>motherPdgId</th>\n",
       "      <th>grandmotherPdgId</th>\n",
       "    </tr>\n",
       "  </thead>\n",
       "  <tbody>\n",
       "    <tr>\n",
       "      <th>0</th>\n",
       "      <td>1</td>\n",
       "      <td>121</td>\n",
       "      <td>120002</td>\n",
       "      <td>0</td>\n",
       "      <td>-1</td>\n",
       "      <td>-1</td>\n",
       "      <td>0.0</td>\n",
       "      <td>0.153054</td>\n",
       "      <td>0.007764</td>\n",
       "      <td>311.850891</td>\n",
       "      <td>...</td>\n",
       "      <td>0.036081</td>\n",
       "      <td>1</td>\n",
       "      <td>8</td>\n",
       "      <td>-999999</td>\n",
       "      <td>1</td>\n",
       "      <td>11</td>\n",
       "      <td>3</td>\n",
       "      <td>22</td>\n",
       "      <td>22</td>\n",
       "      <td>22</td>\n",
       "    </tr>\n",
       "  </tbody>\n",
       "</table>\n",
       "<p>1 rows × 124 columns</p>\n",
       "</div>"
      ],
      "text/plain": [
       "  Event                                                                        \\\n",
       "    run   LS   evnum processid bx orbit ptHat  alphaqcd  alphaqed      qscale   \n",
       "0     1  121  120002         0 -1    -1   0.0  0.153054  0.007764  311.850891   \n",
       "\n",
       "   ... PhotonGenMatch                                                        \\\n",
       "   ...   ptDiff_match matchCategory matchType nPhotonMotherDaughters status   \n",
       "0  ...       0.036081             1         8                -999999      1   \n",
       "\n",
       "                                                                     \n",
       "  motherStatus grandmotherStatus pdgId motherPdgId grandmotherPdgId  \n",
       "0           11                 3    22          22               22  \n",
       "\n",
       "[1 rows x 124 columns]"
      ]
     },
     "execution_count": 15,
     "metadata": {},
     "output_type": "execute_result"
    }
   ],
   "source": [
    "df[0:1]"
   ]
  },
  {
   "cell_type": "code",
   "execution_count": 16,
   "metadata": {},
   "outputs": [
    {
     "data": {
      "text/plain": [
       "0         172.447357\n",
       "1          73.977516\n",
       "2          69.240997\n",
       "3          71.424210\n",
       "4          98.379814\n",
       "             ...    \n",
       "555255     57.297596\n",
       "555256    271.848785\n",
       "555257    100.965134\n",
       "555258    193.225464\n",
       "555259     66.899918\n",
       "Name: (PhotonGenMatch, pt), Length: 555260, dtype: float64"
      ]
     },
     "execution_count": 16,
     "metadata": {},
     "output_type": "execute_result"
    }
   ],
   "source": [
    "df[('PhotonGenMatch', 'pt')]"
   ]
  },
  {
   "cell_type": "code",
   "execution_count": 17,
   "metadata": {},
   "outputs": [
    {
     "data": {
      "text/plain": [
       "0         172.447357\n",
       "1          73.977516\n",
       "2          69.240997\n",
       "3          71.424210\n",
       "4          98.379814\n",
       "             ...    \n",
       "555255     57.297596\n",
       "555256    271.848785\n",
       "555257    100.965134\n",
       "555258    193.225464\n",
       "555259     66.899918\n",
       "Name: pt, Length: 555260, dtype: float64"
      ]
     },
     "execution_count": 17,
     "metadata": {},
     "output_type": "execute_result"
    }
   ],
   "source": [
    "df['PhotonGenMatch']['pt']"
   ]
  },
  {
   "cell_type": "code",
   "execution_count": 18,
   "metadata": {},
   "outputs": [
    {
     "data": {
      "text/plain": [
       "0         True\n",
       "1         True\n",
       "2         True\n",
       "3         True\n",
       "4         True\n",
       "          ... \n",
       "555255    True\n",
       "555256    True\n",
       "555257    True\n",
       "555258    True\n",
       "555259    True\n",
       "Name: (Photon, passHighPtID), Length: 555260, dtype: bool"
      ]
     },
     "execution_count": 18,
     "metadata": {},
     "output_type": "execute_result"
    }
   ],
   "source": [
    "df[('Photon','passHighPtID')]"
   ]
  },
  {
   "cell_type": "code",
   "execution_count": 19,
   "metadata": {},
   "outputs": [
    {
     "data": {
      "text/plain": [
       "0         1\n",
       "1         1\n",
       "2         1\n",
       "3         1\n",
       "4         1\n",
       "         ..\n",
       "555255    1\n",
       "555256    1\n",
       "555257    1\n",
       "555258    1\n",
       "555259    1\n",
       "Length: 555260, dtype: object"
      ]
     },
     "execution_count": 19,
     "metadata": {},
     "output_type": "execute_result"
    }
   ],
   "source": [
    "df_new = df.unstack()\n",
    "df_new.loc['Event','run']"
   ]
  },
  {
   "cell_type": "code",
   "execution_count": 20,
   "metadata": {},
   "outputs": [],
   "source": [
    "df_photon = fTreeFake.arrays(filter_name='Photon', library = 'pd')\n",
    "df_photongenmatch = fTreeFake.arrays(filter_name='PhotonGenMatch', library = 'pd')\n",
    "df_event = fTreeFake.arrays(filter_name='Event', library = 'pd')\n",
    "# df_photon = df_photon['Photon']\n",
    "# df_photongenmatch = df_photongenmatch['PhotonGenMatch']\n",
    "# df_event = df_event['Event']"
   ]
  },
  {
   "cell_type": "code",
   "execution_count": 21,
   "metadata": {},
   "outputs": [
    {
     "data": {
      "text/html": [
       "<div>\n",
       "<style scoped>\n",
       "    .dataframe tbody tr th:only-of-type {\n",
       "        vertical-align: middle;\n",
       "    }\n",
       "\n",
       "    .dataframe tbody tr th {\n",
       "        vertical-align: top;\n",
       "    }\n",
       "\n",
       "    .dataframe thead tr th {\n",
       "        text-align: left;\n",
       "    }\n",
       "</style>\n",
       "<table border=\"1\" class=\"dataframe\">\n",
       "  <thead>\n",
       "    <tr>\n",
       "      <th></th>\n",
       "      <th colspan=\"21\" halign=\"left\">Photon</th>\n",
       "    </tr>\n",
       "    <tr>\n",
       "      <th></th>\n",
       "      <th>pt</th>\n",
       "      <th>eta</th>\n",
       "      <th>phi</th>\n",
       "      <th>scEta</th>\n",
       "      <th>scPhi</th>\n",
       "      <th>rho</th>\n",
       "      <th>chargedHadIso03</th>\n",
       "      <th>neutralHadIso03</th>\n",
       "      <th>photonIso03</th>\n",
       "      <th>rhoCorChargedHadIso03</th>\n",
       "      <th>...</th>\n",
       "      <th>passCorPhoIso</th>\n",
       "      <th>passSieie</th>\n",
       "      <th>passHighPtID</th>\n",
       "      <th>passChIsoDenom</th>\n",
       "      <th>passCorPhoIsoDenom</th>\n",
       "      <th>isFakeable</th>\n",
       "      <th>isNumeratorObjCand</th>\n",
       "      <th>isDenominatorObj</th>\n",
       "      <th>isSaturated</th>\n",
       "      <th>isMCTruthFake</th>\n",
       "    </tr>\n",
       "  </thead>\n",
       "  <tbody>\n",
       "    <tr>\n",
       "      <th>0</th>\n",
       "      <td>178.902404</td>\n",
       "      <td>1.837603</td>\n",
       "      <td>-0.837241</td>\n",
       "      <td>1.839479</td>\n",
       "      <td>-0.836903</td>\n",
       "      <td>17.625380</td>\n",
       "      <td>0.000000</td>\n",
       "      <td>0.307591</td>\n",
       "      <td>0.229857</td>\n",
       "      <td>0.000000</td>\n",
       "      <td>...</td>\n",
       "      <td>True</td>\n",
       "      <td>True</td>\n",
       "      <td>True</td>\n",
       "      <td>True</td>\n",
       "      <td>True</td>\n",
       "      <td>False</td>\n",
       "      <td>True</td>\n",
       "      <td>False</td>\n",
       "      <td>False</td>\n",
       "      <td>False</td>\n",
       "    </tr>\n",
       "    <tr>\n",
       "      <th>1</th>\n",
       "      <td>76.365470</td>\n",
       "      <td>1.876508</td>\n",
       "      <td>-0.386545</td>\n",
       "      <td>1.885256</td>\n",
       "      <td>-0.386120</td>\n",
       "      <td>20.837276</td>\n",
       "      <td>0.000000</td>\n",
       "      <td>0.217988</td>\n",
       "      <td>0.356798</td>\n",
       "      <td>0.000000</td>\n",
       "      <td>...</td>\n",
       "      <td>True</td>\n",
       "      <td>True</td>\n",
       "      <td>True</td>\n",
       "      <td>True</td>\n",
       "      <td>True</td>\n",
       "      <td>False</td>\n",
       "      <td>True</td>\n",
       "      <td>False</td>\n",
       "      <td>False</td>\n",
       "      <td>False</td>\n",
       "    </tr>\n",
       "    <tr>\n",
       "      <th>2</th>\n",
       "      <td>67.918273</td>\n",
       "      <td>1.871722</td>\n",
       "      <td>2.711424</td>\n",
       "      <td>1.867802</td>\n",
       "      <td>2.711012</td>\n",
       "      <td>27.442591</td>\n",
       "      <td>0.586927</td>\n",
       "      <td>0.000000</td>\n",
       "      <td>0.929867</td>\n",
       "      <td>0.296035</td>\n",
       "      <td>...</td>\n",
       "      <td>True</td>\n",
       "      <td>True</td>\n",
       "      <td>True</td>\n",
       "      <td>True</td>\n",
       "      <td>True</td>\n",
       "      <td>False</td>\n",
       "      <td>True</td>\n",
       "      <td>False</td>\n",
       "      <td>False</td>\n",
       "      <td>False</td>\n",
       "    </tr>\n",
       "    <tr>\n",
       "      <th>3</th>\n",
       "      <td>70.111787</td>\n",
       "      <td>-0.134662</td>\n",
       "      <td>-0.351727</td>\n",
       "      <td>-0.143998</td>\n",
       "      <td>-0.351420</td>\n",
       "      <td>27.442591</td>\n",
       "      <td>0.000000</td>\n",
       "      <td>0.000000</td>\n",
       "      <td>1.301904</td>\n",
       "      <td>0.000000</td>\n",
       "      <td>...</td>\n",
       "      <td>True</td>\n",
       "      <td>True</td>\n",
       "      <td>True</td>\n",
       "      <td>True</td>\n",
       "      <td>True</td>\n",
       "      <td>False</td>\n",
       "      <td>True</td>\n",
       "      <td>False</td>\n",
       "      <td>False</td>\n",
       "      <td>False</td>\n",
       "    </tr>\n",
       "    <tr>\n",
       "      <th>4</th>\n",
       "      <td>97.804881</td>\n",
       "      <td>0.834372</td>\n",
       "      <td>0.536368</td>\n",
       "      <td>0.834158</td>\n",
       "      <td>0.536585</td>\n",
       "      <td>23.845514</td>\n",
       "      <td>3.804337</td>\n",
       "      <td>0.000000</td>\n",
       "      <td>3.419703</td>\n",
       "      <td>3.537268</td>\n",
       "      <td>...</td>\n",
       "      <td>True</td>\n",
       "      <td>True</td>\n",
       "      <td>True</td>\n",
       "      <td>True</td>\n",
       "      <td>True</td>\n",
       "      <td>False</td>\n",
       "      <td>True</td>\n",
       "      <td>False</td>\n",
       "      <td>False</td>\n",
       "      <td>False</td>\n",
       "    </tr>\n",
       "  </tbody>\n",
       "</table>\n",
       "<p>5 rows × 80 columns</p>\n",
       "</div>"
      ],
      "text/plain": [
       "       Photon                                                     \\\n",
       "           pt       eta       phi     scEta     scPhi        rho   \n",
       "0  178.902404  1.837603 -0.837241  1.839479 -0.836903  17.625380   \n",
       "1   76.365470  1.876508 -0.386545  1.885256 -0.386120  20.837276   \n",
       "2   67.918273  1.871722  2.711424  1.867802  2.711012  27.442591   \n",
       "3   70.111787 -0.134662 -0.351727 -0.143998 -0.351420  27.442591   \n",
       "4   97.804881  0.834372  0.536368  0.834158  0.536585  23.845514   \n",
       "\n",
       "                                                                     ...  \\\n",
       "  chargedHadIso03 neutralHadIso03 photonIso03 rhoCorChargedHadIso03  ...   \n",
       "0        0.000000        0.307591    0.229857              0.000000  ...   \n",
       "1        0.000000        0.217988    0.356798              0.000000  ...   \n",
       "2        0.586927        0.000000    0.929867              0.296035  ...   \n",
       "3        0.000000        0.000000    1.301904              0.000000  ...   \n",
       "4        3.804337        0.000000    3.419703              3.537268  ...   \n",
       "\n",
       "                                                                          \\\n",
       "  passCorPhoIso passSieie passHighPtID passChIsoDenom passCorPhoIsoDenom   \n",
       "0          True      True         True           True               True   \n",
       "1          True      True         True           True               True   \n",
       "2          True      True         True           True               True   \n",
       "3          True      True         True           True               True   \n",
       "4          True      True         True           True               True   \n",
       "\n",
       "                                                                            \n",
       "  isFakeable isNumeratorObjCand isDenominatorObj isSaturated isMCTruthFake  \n",
       "0      False               True            False       False         False  \n",
       "1      False               True            False       False         False  \n",
       "2      False               True            False       False         False  \n",
       "3      False               True            False       False         False  \n",
       "4      False               True            False       False         False  \n",
       "\n",
       "[5 rows x 80 columns]"
      ]
     },
     "execution_count": 21,
     "metadata": {},
     "output_type": "execute_result"
    }
   ],
   "source": [
    "df_photon.head()\n"
   ]
  },
  {
   "cell_type": "code",
   "execution_count": 22,
   "metadata": {},
   "outputs": [
    {
     "data": {
      "text/html": [
       "<div>\n",
       "<style scoped>\n",
       "    .dataframe tbody tr th:only-of-type {\n",
       "        vertical-align: middle;\n",
       "    }\n",
       "\n",
       "    .dataframe tbody tr th {\n",
       "        vertical-align: top;\n",
       "    }\n",
       "\n",
       "    .dataframe thead tr th {\n",
       "        text-align: left;\n",
       "    }\n",
       "</style>\n",
       "<table border=\"1\" class=\"dataframe\">\n",
       "  <thead>\n",
       "    <tr>\n",
       "      <th></th>\n",
       "      <th colspan=\"15\" halign=\"left\">PhotonGenMatch</th>\n",
       "    </tr>\n",
       "    <tr>\n",
       "      <th></th>\n",
       "      <th>pt</th>\n",
       "      <th>eta</th>\n",
       "      <th>phi</th>\n",
       "      <th>deltaR_match</th>\n",
       "      <th>deltaR_matchDau</th>\n",
       "      <th>ptDiff_match</th>\n",
       "      <th>matchCategory</th>\n",
       "      <th>matchType</th>\n",
       "      <th>nPhotonMotherDaughters</th>\n",
       "      <th>status</th>\n",
       "      <th>motherStatus</th>\n",
       "      <th>grandmotherStatus</th>\n",
       "      <th>pdgId</th>\n",
       "      <th>motherPdgId</th>\n",
       "      <th>grandmotherPdgId</th>\n",
       "    </tr>\n",
       "  </thead>\n",
       "  <tbody>\n",
       "    <tr>\n",
       "      <th>0</th>\n",
       "      <td>172.447357</td>\n",
       "      <td>1.835380</td>\n",
       "      <td>-0.838219</td>\n",
       "      <td>0.002429</td>\n",
       "      <td>-999999.99</td>\n",
       "      <td>0.036081</td>\n",
       "      <td>1</td>\n",
       "      <td>8</td>\n",
       "      <td>-999999</td>\n",
       "      <td>1</td>\n",
       "      <td>11</td>\n",
       "      <td>3</td>\n",
       "      <td>22</td>\n",
       "      <td>22</td>\n",
       "      <td>22</td>\n",
       "    </tr>\n",
       "    <tr>\n",
       "      <th>1</th>\n",
       "      <td>73.977516</td>\n",
       "      <td>1.877721</td>\n",
       "      <td>-0.386379</td>\n",
       "      <td>0.001224</td>\n",
       "      <td>-999999.99</td>\n",
       "      <td>0.031270</td>\n",
       "      <td>1</td>\n",
       "      <td>8</td>\n",
       "      <td>-999999</td>\n",
       "      <td>1</td>\n",
       "      <td>11</td>\n",
       "      <td>3</td>\n",
       "      <td>22</td>\n",
       "      <td>22</td>\n",
       "      <td>22</td>\n",
       "    </tr>\n",
       "    <tr>\n",
       "      <th>2</th>\n",
       "      <td>69.240997</td>\n",
       "      <td>1.853928</td>\n",
       "      <td>2.711038</td>\n",
       "      <td>0.017798</td>\n",
       "      <td>-999999.99</td>\n",
       "      <td>0.019475</td>\n",
       "      <td>1</td>\n",
       "      <td>8</td>\n",
       "      <td>-999999</td>\n",
       "      <td>1</td>\n",
       "      <td>11</td>\n",
       "      <td>3</td>\n",
       "      <td>22</td>\n",
       "      <td>22</td>\n",
       "      <td>22</td>\n",
       "    </tr>\n",
       "    <tr>\n",
       "      <th>3</th>\n",
       "      <td>71.424210</td>\n",
       "      <td>-0.172132</td>\n",
       "      <td>-0.350323</td>\n",
       "      <td>0.037497</td>\n",
       "      <td>-999999.99</td>\n",
       "      <td>0.018719</td>\n",
       "      <td>1</td>\n",
       "      <td>8</td>\n",
       "      <td>-999999</td>\n",
       "      <td>1</td>\n",
       "      <td>11</td>\n",
       "      <td>3</td>\n",
       "      <td>22</td>\n",
       "      <td>22</td>\n",
       "      <td>22</td>\n",
       "    </tr>\n",
       "    <tr>\n",
       "      <th>4</th>\n",
       "      <td>98.379814</td>\n",
       "      <td>0.834212</td>\n",
       "      <td>0.536123</td>\n",
       "      <td>0.000293</td>\n",
       "      <td>-999999.99</td>\n",
       "      <td>0.005878</td>\n",
       "      <td>1</td>\n",
       "      <td>8</td>\n",
       "      <td>-999999</td>\n",
       "      <td>1</td>\n",
       "      <td>11</td>\n",
       "      <td>3</td>\n",
       "      <td>22</td>\n",
       "      <td>22</td>\n",
       "      <td>22</td>\n",
       "    </tr>\n",
       "  </tbody>\n",
       "</table>\n",
       "</div>"
      ],
      "text/plain": [
       "  PhotonGenMatch                                                   \\\n",
       "              pt       eta       phi deltaR_match deltaR_matchDau   \n",
       "0     172.447357  1.835380 -0.838219     0.002429      -999999.99   \n",
       "1      73.977516  1.877721 -0.386379     0.001224      -999999.99   \n",
       "2      69.240997  1.853928  2.711038     0.017798      -999999.99   \n",
       "3      71.424210 -0.172132 -0.350323     0.037497      -999999.99   \n",
       "4      98.379814  0.834212  0.536123     0.000293      -999999.99   \n",
       "\n",
       "                                                                      \\\n",
       "  ptDiff_match matchCategory matchType nPhotonMotherDaughters status   \n",
       "0     0.036081             1         8                -999999      1   \n",
       "1     0.031270             1         8                -999999      1   \n",
       "2     0.019475             1         8                -999999      1   \n",
       "3     0.018719             1         8                -999999      1   \n",
       "4     0.005878             1         8                -999999      1   \n",
       "\n",
       "                                                                     \n",
       "  motherStatus grandmotherStatus pdgId motherPdgId grandmotherPdgId  \n",
       "0           11                 3    22          22               22  \n",
       "1           11                 3    22          22               22  \n",
       "2           11                 3    22          22               22  \n",
       "3           11                 3    22          22               22  \n",
       "4           11                 3    22          22               22  "
      ]
     },
     "execution_count": 22,
     "metadata": {},
     "output_type": "execute_result"
    }
   ],
   "source": [
    "df_photongenmatch.head()"
   ]
  },
  {
   "cell_type": "code",
   "execution_count": 23,
   "metadata": {},
   "outputs": [
    {
     "data": {
      "text/html": [
       "<div>\n",
       "<style scoped>\n",
       "    .dataframe tbody tr th:only-of-type {\n",
       "        vertical-align: middle;\n",
       "    }\n",
       "\n",
       "    .dataframe tbody tr th {\n",
       "        vertical-align: top;\n",
       "    }\n",
       "\n",
       "    .dataframe thead tr th {\n",
       "        text-align: left;\n",
       "    }\n",
       "</style>\n",
       "<table border=\"1\" class=\"dataframe\">\n",
       "  <thead>\n",
       "    <tr>\n",
       "      <th></th>\n",
       "      <th colspan=\"21\" halign=\"left\">Event</th>\n",
       "    </tr>\n",
       "    <tr>\n",
       "      <th></th>\n",
       "      <th>run</th>\n",
       "      <th>LS</th>\n",
       "      <th>evnum</th>\n",
       "      <th>processid</th>\n",
       "      <th>bx</th>\n",
       "      <th>orbit</th>\n",
       "      <th>ptHat</th>\n",
       "      <th>alphaqcd</th>\n",
       "      <th>alphaqed</th>\n",
       "      <th>qscale</th>\n",
       "      <th>...</th>\n",
       "      <th>weightLumi</th>\n",
       "      <th>weightAll</th>\n",
       "      <th>interactingParton1PdgId</th>\n",
       "      <th>interactingParton2PdgId</th>\n",
       "      <th>pdf_id1</th>\n",
       "      <th>pdf_id2</th>\n",
       "      <th>npv_true</th>\n",
       "      <th>beamHaloIDLoose</th>\n",
       "      <th>beamHaloIDTight</th>\n",
       "      <th>beamHaloIDTight2015</th>\n",
       "    </tr>\n",
       "  </thead>\n",
       "  <tbody>\n",
       "    <tr>\n",
       "      <th>0</th>\n",
       "      <td>1</td>\n",
       "      <td>121</td>\n",
       "      <td>120002</td>\n",
       "      <td>0</td>\n",
       "      <td>-1</td>\n",
       "      <td>-1</td>\n",
       "      <td>0.0</td>\n",
       "      <td>0.153054</td>\n",
       "      <td>0.007764</td>\n",
       "      <td>311.850891</td>\n",
       "      <td>...</td>\n",
       "      <td>0.004813</td>\n",
       "      <td>0.000963</td>\n",
       "      <td>-99999</td>\n",
       "      <td>-99999</td>\n",
       "      <td>2</td>\n",
       "      <td>21</td>\n",
       "      <td>-99999</td>\n",
       "      <td>False</td>\n",
       "      <td>False</td>\n",
       "      <td>False</td>\n",
       "    </tr>\n",
       "    <tr>\n",
       "      <th>1</th>\n",
       "      <td>1</td>\n",
       "      <td>121</td>\n",
       "      <td>120010</td>\n",
       "      <td>0</td>\n",
       "      <td>-1</td>\n",
       "      <td>-1</td>\n",
       "      <td>0.0</td>\n",
       "      <td>0.135724</td>\n",
       "      <td>0.007764</td>\n",
       "      <td>222.393845</td>\n",
       "      <td>...</td>\n",
       "      <td>0.004813</td>\n",
       "      <td>0.000481</td>\n",
       "      <td>-99999</td>\n",
       "      <td>-99999</td>\n",
       "      <td>1</td>\n",
       "      <td>3</td>\n",
       "      <td>-99999</td>\n",
       "      <td>True</td>\n",
       "      <td>False</td>\n",
       "      <td>False</td>\n",
       "    </tr>\n",
       "    <tr>\n",
       "      <th>2</th>\n",
       "      <td>1</td>\n",
       "      <td>121</td>\n",
       "      <td>120009</td>\n",
       "      <td>0</td>\n",
       "      <td>-1</td>\n",
       "      <td>-1</td>\n",
       "      <td>0.0</td>\n",
       "      <td>0.104595</td>\n",
       "      <td>0.007764</td>\n",
       "      <td>219.131256</td>\n",
       "      <td>...</td>\n",
       "      <td>0.004813</td>\n",
       "      <td>0.004813</td>\n",
       "      <td>-99999</td>\n",
       "      <td>-99999</td>\n",
       "      <td>2</td>\n",
       "      <td>-2</td>\n",
       "      <td>-99999</td>\n",
       "      <td>False</td>\n",
       "      <td>False</td>\n",
       "      <td>False</td>\n",
       "    </tr>\n",
       "    <tr>\n",
       "      <th>3</th>\n",
       "      <td>1</td>\n",
       "      <td>121</td>\n",
       "      <td>120009</td>\n",
       "      <td>0</td>\n",
       "      <td>-1</td>\n",
       "      <td>-1</td>\n",
       "      <td>0.0</td>\n",
       "      <td>0.104595</td>\n",
       "      <td>0.007764</td>\n",
       "      <td>219.131256</td>\n",
       "      <td>...</td>\n",
       "      <td>0.004813</td>\n",
       "      <td>0.004813</td>\n",
       "      <td>-99999</td>\n",
       "      <td>-99999</td>\n",
       "      <td>2</td>\n",
       "      <td>-2</td>\n",
       "      <td>-99999</td>\n",
       "      <td>False</td>\n",
       "      <td>False</td>\n",
       "      <td>False</td>\n",
       "    </tr>\n",
       "    <tr>\n",
       "      <th>4</th>\n",
       "      <td>1</td>\n",
       "      <td>121</td>\n",
       "      <td>120003</td>\n",
       "      <td>0</td>\n",
       "      <td>-1</td>\n",
       "      <td>-1</td>\n",
       "      <td>0.0</td>\n",
       "      <td>0.136504</td>\n",
       "      <td>0.007764</td>\n",
       "      <td>207.125778</td>\n",
       "      <td>...</td>\n",
       "      <td>0.004813</td>\n",
       "      <td>0.000481</td>\n",
       "      <td>-99999</td>\n",
       "      <td>-99999</td>\n",
       "      <td>-2</td>\n",
       "      <td>4</td>\n",
       "      <td>-99999</td>\n",
       "      <td>False</td>\n",
       "      <td>False</td>\n",
       "      <td>False</td>\n",
       "    </tr>\n",
       "  </tbody>\n",
       "</table>\n",
       "<p>5 rows × 29 columns</p>\n",
       "</div>"
      ],
      "text/plain": [
       "  Event                                                                        \\\n",
       "    run   LS   evnum processid bx orbit ptHat  alphaqcd  alphaqed      qscale   \n",
       "0     1  121  120002         0 -1    -1   0.0  0.153054  0.007764  311.850891   \n",
       "1     1  121  120010         0 -1    -1   0.0  0.135724  0.007764  222.393845   \n",
       "2     1  121  120009         0 -1    -1   0.0  0.104595  0.007764  219.131256   \n",
       "3     1  121  120009         0 -1    -1   0.0  0.104595  0.007764  219.131256   \n",
       "4     1  121  120003         0 -1    -1   0.0  0.136504  0.007764  207.125778   \n",
       "\n",
       "   ...                                                                       \\\n",
       "   ... weightLumi weightAll interactingParton1PdgId interactingParton2PdgId   \n",
       "0  ...   0.004813  0.000963                  -99999                  -99999   \n",
       "1  ...   0.004813  0.000481                  -99999                  -99999   \n",
       "2  ...   0.004813  0.004813                  -99999                  -99999   \n",
       "3  ...   0.004813  0.004813                  -99999                  -99999   \n",
       "4  ...   0.004813  0.000481                  -99999                  -99999   \n",
       "\n",
       "                                                                                \n",
       "  pdf_id1 pdf_id2 npv_true beamHaloIDLoose beamHaloIDTight beamHaloIDTight2015  \n",
       "0       2      21   -99999           False           False               False  \n",
       "1       1       3   -99999            True           False               False  \n",
       "2       2      -2   -99999           False           False               False  \n",
       "3       2      -2   -99999           False           False               False  \n",
       "4      -2       4   -99999           False           False               False  \n",
       "\n",
       "[5 rows x 29 columns]"
      ]
     },
     "execution_count": 23,
     "metadata": {},
     "output_type": "execute_result"
    }
   ],
   "source": [
    "df_event.head()"
   ]
  },
  {
   "cell_type": "code",
   "execution_count": null,
   "metadata": {},
   "outputs": [],
   "source": []
  },
  {
   "cell_type": "markdown",
   "metadata": {},
   "source": [
    "## Data Preprocessing\n",
    "\n",
    "We apply the following pre-selection on all examples:\n",
    "- Pass photon ID\n",
    "- Located inside the EB or EE detectors (these are the CMS ECAL barrel and endcap detectors, respectively)\n",
    "- Are high energy, above 50 GeV\n",
    "- Have small shower shapes along the $\\phi$-direction (this eliminates a certain type of fakes produced from another physical source) \n",
    "\n",
    "Now, $m = 156,202$"
   ]
  },
  {
   "cell_type": "markdown",
   "metadata": {},
   "source": [
    "######-------------------------------------------------------------------------"
   ]
  },
  {
   "cell_type": "code",
   "execution_count": 24,
   "metadata": {},
   "outputs": [
    {
     "data": {
      "text/plain": [
       "528339"
      ]
     },
     "execution_count": 24,
     "metadata": {},
     "output_type": "execute_result"
    }
   ],
   "source": [
    "df = df[df[('Photon','passHighPtID')] == 1]\n",
    "df = df[(df[('Photon','isEB')]==True) | (df[('Photon','isEE')]==True)]\n",
    "df = df[(df[('Photon','pt')] > 50.0) & (df[('Photon','sigmaIphiIphi5x5')] > 0.009)]\n",
    "len(df)"
   ]
  },
  {
   "cell_type": "code",
   "execution_count": 25,
   "metadata": {},
   "outputs": [
    {
     "data": {
      "text/html": [
       "<div>\n",
       "<style scoped>\n",
       "    .dataframe tbody tr th:only-of-type {\n",
       "        vertical-align: middle;\n",
       "    }\n",
       "\n",
       "    .dataframe tbody tr th {\n",
       "        vertical-align: top;\n",
       "    }\n",
       "\n",
       "    .dataframe thead tr th {\n",
       "        text-align: left;\n",
       "    }\n",
       "</style>\n",
       "<table border=\"1\" class=\"dataframe\">\n",
       "  <thead>\n",
       "    <tr>\n",
       "      <th></th>\n",
       "      <th colspan=\"10\" halign=\"left\">Event</th>\n",
       "      <th>...</th>\n",
       "      <th colspan=\"10\" halign=\"left\">PhotonGenMatch</th>\n",
       "    </tr>\n",
       "    <tr>\n",
       "      <th></th>\n",
       "      <th>run</th>\n",
       "      <th>LS</th>\n",
       "      <th>evnum</th>\n",
       "      <th>processid</th>\n",
       "      <th>bx</th>\n",
       "      <th>orbit</th>\n",
       "      <th>ptHat</th>\n",
       "      <th>alphaqcd</th>\n",
       "      <th>alphaqed</th>\n",
       "      <th>qscale</th>\n",
       "      <th>...</th>\n",
       "      <th>ptDiff_match</th>\n",
       "      <th>matchCategory</th>\n",
       "      <th>matchType</th>\n",
       "      <th>nPhotonMotherDaughters</th>\n",
       "      <th>status</th>\n",
       "      <th>motherStatus</th>\n",
       "      <th>grandmotherStatus</th>\n",
       "      <th>pdgId</th>\n",
       "      <th>motherPdgId</th>\n",
       "      <th>grandmotherPdgId</th>\n",
       "    </tr>\n",
       "  </thead>\n",
       "  <tbody>\n",
       "    <tr>\n",
       "      <th>0</th>\n",
       "      <td>1</td>\n",
       "      <td>121</td>\n",
       "      <td>120002</td>\n",
       "      <td>0</td>\n",
       "      <td>-1</td>\n",
       "      <td>-1</td>\n",
       "      <td>0.0</td>\n",
       "      <td>0.153054</td>\n",
       "      <td>0.007764</td>\n",
       "      <td>311.850891</td>\n",
       "      <td>...</td>\n",
       "      <td>0.036081</td>\n",
       "      <td>1</td>\n",
       "      <td>8</td>\n",
       "      <td>-999999</td>\n",
       "      <td>1</td>\n",
       "      <td>11</td>\n",
       "      <td>3</td>\n",
       "      <td>22</td>\n",
       "      <td>22</td>\n",
       "      <td>22</td>\n",
       "    </tr>\n",
       "    <tr>\n",
       "      <th>1</th>\n",
       "      <td>1</td>\n",
       "      <td>121</td>\n",
       "      <td>120010</td>\n",
       "      <td>0</td>\n",
       "      <td>-1</td>\n",
       "      <td>-1</td>\n",
       "      <td>0.0</td>\n",
       "      <td>0.135724</td>\n",
       "      <td>0.007764</td>\n",
       "      <td>222.393845</td>\n",
       "      <td>...</td>\n",
       "      <td>0.031270</td>\n",
       "      <td>1</td>\n",
       "      <td>8</td>\n",
       "      <td>-999999</td>\n",
       "      <td>1</td>\n",
       "      <td>11</td>\n",
       "      <td>3</td>\n",
       "      <td>22</td>\n",
       "      <td>22</td>\n",
       "      <td>22</td>\n",
       "    </tr>\n",
       "    <tr>\n",
       "      <th>2</th>\n",
       "      <td>1</td>\n",
       "      <td>121</td>\n",
       "      <td>120009</td>\n",
       "      <td>0</td>\n",
       "      <td>-1</td>\n",
       "      <td>-1</td>\n",
       "      <td>0.0</td>\n",
       "      <td>0.104595</td>\n",
       "      <td>0.007764</td>\n",
       "      <td>219.131256</td>\n",
       "      <td>...</td>\n",
       "      <td>0.019475</td>\n",
       "      <td>1</td>\n",
       "      <td>8</td>\n",
       "      <td>-999999</td>\n",
       "      <td>1</td>\n",
       "      <td>11</td>\n",
       "      <td>3</td>\n",
       "      <td>22</td>\n",
       "      <td>22</td>\n",
       "      <td>22</td>\n",
       "    </tr>\n",
       "    <tr>\n",
       "      <th>3</th>\n",
       "      <td>1</td>\n",
       "      <td>121</td>\n",
       "      <td>120009</td>\n",
       "      <td>0</td>\n",
       "      <td>-1</td>\n",
       "      <td>-1</td>\n",
       "      <td>0.0</td>\n",
       "      <td>0.104595</td>\n",
       "      <td>0.007764</td>\n",
       "      <td>219.131256</td>\n",
       "      <td>...</td>\n",
       "      <td>0.018719</td>\n",
       "      <td>1</td>\n",
       "      <td>8</td>\n",
       "      <td>-999999</td>\n",
       "      <td>1</td>\n",
       "      <td>11</td>\n",
       "      <td>3</td>\n",
       "      <td>22</td>\n",
       "      <td>22</td>\n",
       "      <td>22</td>\n",
       "    </tr>\n",
       "    <tr>\n",
       "      <th>4</th>\n",
       "      <td>1</td>\n",
       "      <td>121</td>\n",
       "      <td>120003</td>\n",
       "      <td>0</td>\n",
       "      <td>-1</td>\n",
       "      <td>-1</td>\n",
       "      <td>0.0</td>\n",
       "      <td>0.136504</td>\n",
       "      <td>0.007764</td>\n",
       "      <td>207.125778</td>\n",
       "      <td>...</td>\n",
       "      <td>0.005878</td>\n",
       "      <td>1</td>\n",
       "      <td>8</td>\n",
       "      <td>-999999</td>\n",
       "      <td>1</td>\n",
       "      <td>11</td>\n",
       "      <td>3</td>\n",
       "      <td>22</td>\n",
       "      <td>22</td>\n",
       "      <td>22</td>\n",
       "    </tr>\n",
       "    <tr>\n",
       "      <th>...</th>\n",
       "      <td>...</td>\n",
       "      <td>...</td>\n",
       "      <td>...</td>\n",
       "      <td>...</td>\n",
       "      <td>...</td>\n",
       "      <td>...</td>\n",
       "      <td>...</td>\n",
       "      <td>...</td>\n",
       "      <td>...</td>\n",
       "      <td>...</td>\n",
       "      <td>...</td>\n",
       "      <td>...</td>\n",
       "      <td>...</td>\n",
       "      <td>...</td>\n",
       "      <td>...</td>\n",
       "      <td>...</td>\n",
       "      <td>...</td>\n",
       "      <td>...</td>\n",
       "      <td>...</td>\n",
       "      <td>...</td>\n",
       "      <td>...</td>\n",
       "    </tr>\n",
       "    <tr>\n",
       "      <th>555255</th>\n",
       "      <td>1</td>\n",
       "      <td>1370</td>\n",
       "      <td>1369993</td>\n",
       "      <td>0</td>\n",
       "      <td>-1</td>\n",
       "      <td>-1</td>\n",
       "      <td>0.0</td>\n",
       "      <td>0.126107</td>\n",
       "      <td>0.007764</td>\n",
       "      <td>557.704285</td>\n",
       "      <td>...</td>\n",
       "      <td>0.010144</td>\n",
       "      <td>1</td>\n",
       "      <td>8</td>\n",
       "      <td>-999999</td>\n",
       "      <td>1</td>\n",
       "      <td>11</td>\n",
       "      <td>3</td>\n",
       "      <td>22</td>\n",
       "      <td>22</td>\n",
       "      <td>22</td>\n",
       "    </tr>\n",
       "    <tr>\n",
       "      <th>555256</th>\n",
       "      <td>1</td>\n",
       "      <td>1370</td>\n",
       "      <td>1369999</td>\n",
       "      <td>0</td>\n",
       "      <td>-1</td>\n",
       "      <td>-1</td>\n",
       "      <td>0.0</td>\n",
       "      <td>0.126895</td>\n",
       "      <td>0.007764</td>\n",
       "      <td>433.067841</td>\n",
       "      <td>...</td>\n",
       "      <td>0.016530</td>\n",
       "      <td>1</td>\n",
       "      <td>8</td>\n",
       "      <td>-999999</td>\n",
       "      <td>1</td>\n",
       "      <td>11</td>\n",
       "      <td>3</td>\n",
       "      <td>22</td>\n",
       "      <td>22</td>\n",
       "      <td>22</td>\n",
       "    </tr>\n",
       "    <tr>\n",
       "      <th>555257</th>\n",
       "      <td>1</td>\n",
       "      <td>1370</td>\n",
       "      <td>1369989</td>\n",
       "      <td>0</td>\n",
       "      <td>-1</td>\n",
       "      <td>-1</td>\n",
       "      <td>0.0</td>\n",
       "      <td>0.111424</td>\n",
       "      <td>0.007764</td>\n",
       "      <td>581.910706</td>\n",
       "      <td>...</td>\n",
       "      <td>0.017775</td>\n",
       "      <td>1</td>\n",
       "      <td>8</td>\n",
       "      <td>-999999</td>\n",
       "      <td>1</td>\n",
       "      <td>11</td>\n",
       "      <td>3</td>\n",
       "      <td>22</td>\n",
       "      <td>22</td>\n",
       "      <td>22</td>\n",
       "    </tr>\n",
       "    <tr>\n",
       "      <th>555258</th>\n",
       "      <td>1</td>\n",
       "      <td>1370</td>\n",
       "      <td>1370000</td>\n",
       "      <td>0</td>\n",
       "      <td>-1</td>\n",
       "      <td>-1</td>\n",
       "      <td>0.0</td>\n",
       "      <td>0.137363</td>\n",
       "      <td>0.007764</td>\n",
       "      <td>128.794662</td>\n",
       "      <td>...</td>\n",
       "      <td>0.008288</td>\n",
       "      <td>1</td>\n",
       "      <td>8</td>\n",
       "      <td>-999999</td>\n",
       "      <td>1</td>\n",
       "      <td>11</td>\n",
       "      <td>3</td>\n",
       "      <td>22</td>\n",
       "      <td>22</td>\n",
       "      <td>22</td>\n",
       "    </tr>\n",
       "    <tr>\n",
       "      <th>555259</th>\n",
       "      <td>1</td>\n",
       "      <td>1370</td>\n",
       "      <td>1370000</td>\n",
       "      <td>0</td>\n",
       "      <td>-1</td>\n",
       "      <td>-1</td>\n",
       "      <td>0.0</td>\n",
       "      <td>0.137363</td>\n",
       "      <td>0.007764</td>\n",
       "      <td>128.794662</td>\n",
       "      <td>...</td>\n",
       "      <td>0.026105</td>\n",
       "      <td>1</td>\n",
       "      <td>8</td>\n",
       "      <td>-999999</td>\n",
       "      <td>1</td>\n",
       "      <td>11</td>\n",
       "      <td>3</td>\n",
       "      <td>22</td>\n",
       "      <td>22</td>\n",
       "      <td>22</td>\n",
       "    </tr>\n",
       "  </tbody>\n",
       "</table>\n",
       "<p>528339 rows × 124 columns</p>\n",
       "</div>"
      ],
      "text/plain": [
       "       Event                                                              \\\n",
       "         run    LS    evnum processid bx orbit ptHat  alphaqcd  alphaqed   \n",
       "0          1   121   120002         0 -1    -1   0.0  0.153054  0.007764   \n",
       "1          1   121   120010         0 -1    -1   0.0  0.135724  0.007764   \n",
       "2          1   121   120009         0 -1    -1   0.0  0.104595  0.007764   \n",
       "3          1   121   120009         0 -1    -1   0.0  0.104595  0.007764   \n",
       "4          1   121   120003         0 -1    -1   0.0  0.136504  0.007764   \n",
       "...      ...   ...      ...       ... ..   ...   ...       ...       ...   \n",
       "555255     1  1370  1369993         0 -1    -1   0.0  0.126107  0.007764   \n",
       "555256     1  1370  1369999         0 -1    -1   0.0  0.126895  0.007764   \n",
       "555257     1  1370  1369989         0 -1    -1   0.0  0.111424  0.007764   \n",
       "555258     1  1370  1370000         0 -1    -1   0.0  0.137363  0.007764   \n",
       "555259     1  1370  1370000         0 -1    -1   0.0  0.137363  0.007764   \n",
       "\n",
       "                    ... PhotonGenMatch                          \\\n",
       "            qscale  ...   ptDiff_match matchCategory matchType   \n",
       "0       311.850891  ...       0.036081             1         8   \n",
       "1       222.393845  ...       0.031270             1         8   \n",
       "2       219.131256  ...       0.019475             1         8   \n",
       "3       219.131256  ...       0.018719             1         8   \n",
       "4       207.125778  ...       0.005878             1         8   \n",
       "...            ...  ...            ...           ...       ...   \n",
       "555255  557.704285  ...       0.010144             1         8   \n",
       "555256  433.067841  ...       0.016530             1         8   \n",
       "555257  581.910706  ...       0.017775             1         8   \n",
       "555258  128.794662  ...       0.008288             1         8   \n",
       "555259  128.794662  ...       0.026105             1         8   \n",
       "\n",
       "                                                                           \\\n",
       "       nPhotonMotherDaughters status motherStatus grandmotherStatus pdgId   \n",
       "0                     -999999      1           11                 3    22   \n",
       "1                     -999999      1           11                 3    22   \n",
       "2                     -999999      1           11                 3    22   \n",
       "3                     -999999      1           11                 3    22   \n",
       "4                     -999999      1           11                 3    22   \n",
       "...                       ...    ...          ...               ...   ...   \n",
       "555255                -999999      1           11                 3    22   \n",
       "555256                -999999      1           11                 3    22   \n",
       "555257                -999999      1           11                 3    22   \n",
       "555258                -999999      1           11                 3    22   \n",
       "555259                -999999      1           11                 3    22   \n",
       "\n",
       "                                     \n",
       "       motherPdgId grandmotherPdgId  \n",
       "0               22               22  \n",
       "1               22               22  \n",
       "2               22               22  \n",
       "3               22               22  \n",
       "4               22               22  \n",
       "...            ...              ...  \n",
       "555255          22               22  \n",
       "555256          22               22  \n",
       "555257          22               22  \n",
       "555258          22               22  \n",
       "555259          22               22  \n",
       "\n",
       "[528339 rows x 124 columns]"
      ]
     },
     "execution_count": 25,
     "metadata": {},
     "output_type": "execute_result"
    }
   ],
   "source": [
    "df"
   ]
  },
  {
   "cell_type": "markdown",
   "metadata": {},
   "source": [
    "## Data Visualization\n",
    "\n",
    "- Photon $p_T$ shows most photons fall towards the lower side of the energy spectrum\n",
    "- Photon $\\eta$ vs. $\\phi$ shows where the photons are located inside the ECAL (with the EB and EE separated by a gap on both sides)\n",
    "- Photon $\\sigma_{i\\eta i\\eta}$ shows the width of the photon shower along the $\\eta$-direction (with different distributions in the EB and EE regions)\n",
    "- Photon Iso$_{Ch}$ shows that most photons have little activity around them and are well isolated"
   ]
  },
  {
   "cell_type": "code",
   "execution_count": 26,
   "metadata": {},
   "outputs": [
    {
     "data": {
      "image/png": "[encoded data removed]",
      "text/plain": [
       "<Figure size 432x288 with 1 Axes>"
      ]
     },
     "metadata": {
      "needs_background": "light"
     },
     "output_type": "display_data"
    }
   ],
   "source": [
    "n_bins_pt = 100;\n",
    "#(max(df['Photon_pt'])-min(df['Photon_pt']))/60\n",
    "#bins=np.arange(min(data), max(data) + binwidth, binwidth)\n",
    "df[('Photon','pt')].plot.hist(bins=n_bins_pt,range=(0,4000),log=True); #weights=df['Event_weightAll']\n",
    "plt.xlabel('Photon $p_T$ (GeV)', horizontalalignment='right', x=1.0);\n",
    "plt.ylabel('Events / '+str(int(4000/n_bins_pt))+' GeV', horizontalalignment='right', y=1.0);"
   ]
  },
  {
   "cell_type": "code",
   "execution_count": 27,
   "metadata": {},
   "outputs": [
    {
     "data": {
      "image/png": "[encoded data removed]",
      "text/plain": [
       "<Figure size 432x288 with 1 Axes>"
      ]
     },
     "metadata": {
      "needs_background": "light"
     },
     "output_type": "display_data"
    }
   ],
   "source": [
    "#df.plot.scatter('Photon_scEta', 'Photon_scPhi');\n",
    "plt.hist2d(df[('Photon','scEta')],df[('Photon','scPhi')],bins=150); #weights=df['Event_weightAll']\n",
    "plt.suptitle('Photon location',fontsize=16)\n",
    "plt.xlabel('$\\eta$');\n",
    "plt.ylabel('$\\phi$');"
   ]
  },
  {
   "cell_type": "code",
   "execution_count": 28,
   "metadata": {},
   "outputs": [
    {
     "data": {
      "image/png": "[encoded data removed]",
      "text/plain": [
       "<Figure size 432x288 with 1 Axes>"
      ]
     },
     "metadata": {
      "needs_background": "light"
     },
     "output_type": "display_data"
    }
   ],
   "source": [
    "df[('Photon','sigmaIetaIeta5x5')].plot.hist(bins=100,log=False); #weights=df['Event_weightAll']\n",
    "plt.xlabel('Photon $\\sigma_{i\\eta i\\eta}$', horizontalalignment='right', x=1.0);\n",
    "plt.ylabel('Events', horizontalalignment='right', y=1.0);"
   ]
  },
  {
   "cell_type": "code",
   "execution_count": 29,
   "metadata": {},
   "outputs": [
    {
     "data": {
      "image/png": "[encoded data removed]",
      "text/plain": [
       "<Figure size 432x288 with 1 Axes>"
      ]
     },
     "metadata": {
      "needs_background": "light"
     },
     "output_type": "display_data"
    }
   ],
   "source": [
    "df[('Photon','chargedHadIso03')].plot.hist(bins=50,log=True); #weights=df['Event_weightAll']\n",
    "plt.xlabel('Photon Iso$_{Ch}$ (GeV)', horizontalalignment='right', x=1.0);\n",
    "plt.ylabel('Events / '+str(5/50)+' GeV', horizontalalignment='right', y=1.0);"
   ]
  },
  {
   "cell_type": "markdown",
   "metadata": {},
   "source": [
    "## Create labels\n",
    "\n",
    "Let's encode the fake criteria into a single label:\n",
    "- Real photons ($y=0$)\n",
    "- Fake photons ($y=1$)\n",
    "\n",
    "Store this as a NumPy array `Y_train`."
   ]
  },
  {
   "cell_type": "code",
   "execution_count": 30,
   "metadata": {},
   "outputs": [],
   "source": [
    "def is_fake(row):\n",
    "    if (row[('Photon','passHighPtID')] == 1) and ((row[('PhotonGenMatch','matchCategory')] == 1) or (row[('PhotonGenMatch','matchCategory')] == 2)) and (row[('PhotonGenMatch','matchType')] == 1):\n",
    "        val = 1\n",
    "    else:\n",
    "        val = 0\n",
    "    return val    "
   ]
  },
  {
   "cell_type": "code",
   "execution_count": 31,
   "metadata": {},
   "outputs": [
    {
     "data": {
      "text/plain": [
       "(2    True\n",
       " Name: (Photon, passHighPtID), dtype: bool,\n",
       " 2    1\n",
       " Name: (PhotonGenMatch, matchCategory), dtype: int32,\n",
       " 2    1\n",
       " Name: (PhotonGenMatch, matchCategory), dtype: int32,\n",
       " 2    8\n",
       " Name: (PhotonGenMatch, matchType), dtype: int32)"
      ]
     },
     "execution_count": 31,
     "metadata": {},
     "output_type": "execute_result"
    }
   ],
   "source": [
    "df[2:3][('Photon','passHighPtID')], df[2:3][('PhotonGenMatch','matchCategory')], df[2:3][('PhotonGenMatch','matchCategory')], df[2:3][('PhotonGenMatch','matchType')]"
   ]
  },
  {
   "cell_type": "code",
   "execution_count": 32,
   "metadata": {},
   "outputs": [],
   "source": [
    "df['fake'] = df.apply(is_fake, axis=1)"
   ]
  },
  {
   "cell_type": "code",
   "execution_count": 33,
   "metadata": {},
   "outputs": [
    {
     "data": {
      "text/html": [
       "<div>\n",
       "<style scoped>\n",
       "    .dataframe tbody tr th:only-of-type {\n",
       "        vertical-align: middle;\n",
       "    }\n",
       "\n",
       "    .dataframe tbody tr th {\n",
       "        vertical-align: top;\n",
       "    }\n",
       "\n",
       "    .dataframe thead tr th {\n",
       "        text-align: left;\n",
       "    }\n",
       "</style>\n",
       "<table border=\"1\" class=\"dataframe\">\n",
       "  <thead>\n",
       "    <tr>\n",
       "      <th></th>\n",
       "      <th colspan=\"10\" halign=\"left\">Event</th>\n",
       "      <th>...</th>\n",
       "      <th colspan=\"9\" halign=\"left\">PhotonGenMatch</th>\n",
       "      <th>fake</th>\n",
       "    </tr>\n",
       "    <tr>\n",
       "      <th></th>\n",
       "      <th>run</th>\n",
       "      <th>LS</th>\n",
       "      <th>evnum</th>\n",
       "      <th>processid</th>\n",
       "      <th>bx</th>\n",
       "      <th>orbit</th>\n",
       "      <th>ptHat</th>\n",
       "      <th>alphaqcd</th>\n",
       "      <th>alphaqed</th>\n",
       "      <th>qscale</th>\n",
       "      <th>...</th>\n",
       "      <th>matchCategory</th>\n",
       "      <th>matchType</th>\n",
       "      <th>nPhotonMotherDaughters</th>\n",
       "      <th>status</th>\n",
       "      <th>motherStatus</th>\n",
       "      <th>grandmotherStatus</th>\n",
       "      <th>pdgId</th>\n",
       "      <th>motherPdgId</th>\n",
       "      <th>grandmotherPdgId</th>\n",
       "      <th></th>\n",
       "    </tr>\n",
       "  </thead>\n",
       "  <tbody>\n",
       "    <tr>\n",
       "      <th>0</th>\n",
       "      <td>1</td>\n",
       "      <td>121</td>\n",
       "      <td>120002</td>\n",
       "      <td>0</td>\n",
       "      <td>-1</td>\n",
       "      <td>-1</td>\n",
       "      <td>0.0</td>\n",
       "      <td>0.153054</td>\n",
       "      <td>0.007764</td>\n",
       "      <td>311.850891</td>\n",
       "      <td>...</td>\n",
       "      <td>1</td>\n",
       "      <td>8</td>\n",
       "      <td>-999999</td>\n",
       "      <td>1</td>\n",
       "      <td>11</td>\n",
       "      <td>3</td>\n",
       "      <td>22</td>\n",
       "      <td>22</td>\n",
       "      <td>22</td>\n",
       "      <td>0</td>\n",
       "    </tr>\n",
       "    <tr>\n",
       "      <th>1</th>\n",
       "      <td>1</td>\n",
       "      <td>121</td>\n",
       "      <td>120010</td>\n",
       "      <td>0</td>\n",
       "      <td>-1</td>\n",
       "      <td>-1</td>\n",
       "      <td>0.0</td>\n",
       "      <td>0.135724</td>\n",
       "      <td>0.007764</td>\n",
       "      <td>222.393845</td>\n",
       "      <td>...</td>\n",
       "      <td>1</td>\n",
       "      <td>8</td>\n",
       "      <td>-999999</td>\n",
       "      <td>1</td>\n",
       "      <td>11</td>\n",
       "      <td>3</td>\n",
       "      <td>22</td>\n",
       "      <td>22</td>\n",
       "      <td>22</td>\n",
       "      <td>0</td>\n",
       "    </tr>\n",
       "    <tr>\n",
       "      <th>2</th>\n",
       "      <td>1</td>\n",
       "      <td>121</td>\n",
       "      <td>120009</td>\n",
       "      <td>0</td>\n",
       "      <td>-1</td>\n",
       "      <td>-1</td>\n",
       "      <td>0.0</td>\n",
       "      <td>0.104595</td>\n",
       "      <td>0.007764</td>\n",
       "      <td>219.131256</td>\n",
       "      <td>...</td>\n",
       "      <td>1</td>\n",
       "      <td>8</td>\n",
       "      <td>-999999</td>\n",
       "      <td>1</td>\n",
       "      <td>11</td>\n",
       "      <td>3</td>\n",
       "      <td>22</td>\n",
       "      <td>22</td>\n",
       "      <td>22</td>\n",
       "      <td>0</td>\n",
       "    </tr>\n",
       "    <tr>\n",
       "      <th>3</th>\n",
       "      <td>1</td>\n",
       "      <td>121</td>\n",
       "      <td>120009</td>\n",
       "      <td>0</td>\n",
       "      <td>-1</td>\n",
       "      <td>-1</td>\n",
       "      <td>0.0</td>\n",
       "      <td>0.104595</td>\n",
       "      <td>0.007764</td>\n",
       "      <td>219.131256</td>\n",
       "      <td>...</td>\n",
       "      <td>1</td>\n",
       "      <td>8</td>\n",
       "      <td>-999999</td>\n",
       "      <td>1</td>\n",
       "      <td>11</td>\n",
       "      <td>3</td>\n",
       "      <td>22</td>\n",
       "      <td>22</td>\n",
       "      <td>22</td>\n",
       "      <td>0</td>\n",
       "    </tr>\n",
       "    <tr>\n",
       "      <th>4</th>\n",
       "      <td>1</td>\n",
       "      <td>121</td>\n",
       "      <td>120003</td>\n",
       "      <td>0</td>\n",
       "      <td>-1</td>\n",
       "      <td>-1</td>\n",
       "      <td>0.0</td>\n",
       "      <td>0.136504</td>\n",
       "      <td>0.007764</td>\n",
       "      <td>207.125778</td>\n",
       "      <td>...</td>\n",
       "      <td>1</td>\n",
       "      <td>8</td>\n",
       "      <td>-999999</td>\n",
       "      <td>1</td>\n",
       "      <td>11</td>\n",
       "      <td>3</td>\n",
       "      <td>22</td>\n",
       "      <td>22</td>\n",
       "      <td>22</td>\n",
       "      <td>0</td>\n",
       "    </tr>\n",
       "  </tbody>\n",
       "</table>\n",
       "<p>5 rows × 125 columns</p>\n",
       "</div>"
      ],
      "text/plain": [
       "  Event                                                                        \\\n",
       "    run   LS   evnum processid bx orbit ptHat  alphaqcd  alphaqed      qscale   \n",
       "0     1  121  120002         0 -1    -1   0.0  0.153054  0.007764  311.850891   \n",
       "1     1  121  120010         0 -1    -1   0.0  0.135724  0.007764  222.393845   \n",
       "2     1  121  120009         0 -1    -1   0.0  0.104595  0.007764  219.131256   \n",
       "3     1  121  120009         0 -1    -1   0.0  0.104595  0.007764  219.131256   \n",
       "4     1  121  120003         0 -1    -1   0.0  0.136504  0.007764  207.125778   \n",
       "\n",
       "   ... PhotonGenMatch                                                       \\\n",
       "   ...  matchCategory matchType nPhotonMotherDaughters status motherStatus   \n",
       "0  ...              1         8                -999999      1           11   \n",
       "1  ...              1         8                -999999      1           11   \n",
       "2  ...              1         8                -999999      1           11   \n",
       "3  ...              1         8                -999999      1           11   \n",
       "4  ...              1         8                -999999      1           11   \n",
       "\n",
       "                                                       fake  \n",
       "  grandmotherStatus pdgId motherPdgId grandmotherPdgId       \n",
       "0                 3    22          22               22    0  \n",
       "1                 3    22          22               22    0  \n",
       "2                 3    22          22               22    0  \n",
       "3                 3    22          22               22    0  \n",
       "4                 3    22          22               22    0  \n",
       "\n",
       "[5 rows x 125 columns]"
      ]
     },
     "execution_count": 33,
     "metadata": {},
     "output_type": "execute_result"
    }
   ],
   "source": [
    "df.head()"
   ]
  },
  {
   "cell_type": "code",
   "execution_count": 34,
   "metadata": {},
   "outputs": [
    {
     "data": {
      "text/plain": [
       "0    527985\n",
       "1       354\n",
       "Name: fake, dtype: int64"
      ]
     },
     "execution_count": 34,
     "metadata": {},
     "output_type": "execute_result"
    }
   ],
   "source": [
    "#df[['PhotonGenMatch_matchCategory','PhotonGenMatch_matchType','fake']][df['fake']==1]\n",
    "df['fake'].value_counts()"
   ]
  },
  {
   "cell_type": "code",
   "execution_count": 35,
   "metadata": {},
   "outputs": [
    {
     "data": {
      "text/plain": [
       "0         False\n",
       "1         False\n",
       "2         False\n",
       "3         False\n",
       "4         False\n",
       "          ...  \n",
       "555255    False\n",
       "555256    False\n",
       "555257    False\n",
       "555258    False\n",
       "555259    False\n",
       "Name: fake, Length: 528339, dtype: bool"
      ]
     },
     "execution_count": 35,
     "metadata": {},
     "output_type": "execute_result"
    }
   ],
   "source": [
    "df['fake'].isnull()"
   ]
  },
  {
   "cell_type": "code",
   "execution_count": 36,
   "metadata": {},
   "outputs": [
    {
     "data": {
      "text/plain": [
       "0"
      ]
     },
     "execution_count": 36,
     "metadata": {},
     "output_type": "execute_result"
    }
   ],
   "source": [
    "df['fake'].isnull().sum()"
   ]
  },
  {
   "cell_type": "code",
   "execution_count": 37,
   "metadata": {},
   "outputs": [
    {
     "data": {
      "text/plain": [
       "(528339,)"
      ]
     },
     "execution_count": 37,
     "metadata": {},
     "output_type": "execute_result"
    }
   ],
   "source": [
    "Y = df['fake'].to_numpy()\n",
    "Y.shape\n",
    "\n",
    "#Y_train = Y.reshape(Y.shape[0],1)\n",
    "#Y_train.shape"
   ]
  },
  {
   "cell_type": "code",
   "execution_count": 38,
   "metadata": {},
   "outputs": [
    {
     "data": {
      "image/png": "[encoded data removed]",
      "text/plain": [
       "<Figure size 432x288 with 1 Axes>"
      ]
     },
     "metadata": {
      "needs_background": "light"
     },
     "output_type": "display_data"
    }
   ],
   "source": [
    "fig = plt.figure()\n",
    "ax = fig.add_subplot(111)\n",
    "df[('Photon','sigmaIetaIeta5x5')][df['fake']==0].plot.hist(bins=100,density=True,log=False,label='Real',histtype='step'); # weights=df['Event_weightAll'][df['fake']==0]\n",
    "df[('Photon','sigmaIetaIeta5x5')][df['fake']==1].plot.hist(bins=100,density=True,log=False,label='Fake',histtype='step'); # weights=df['Event_weightAll'][df['fake']==1]\n",
    "plt.xlabel('Photon $\\sigma_{i\\eta i\\eta}$', horizontalalignment='right', x=1.0);\n",
    "plt.ylabel('Events', horizontalalignment='right', y=1.0);\n",
    "plt.legend(loc='upper right');\n",
    "handles, labels = ax.get_legend_handles_labels()\n",
    "new_handles = [Line2D([], [], c=h.get_edgecolor()) for h in handles]\n",
    "plt.legend(handles=new_handles, labels=labels)\n",
    "plt.show()"
   ]
  },
  {
   "cell_type": "code",
   "execution_count": 39,
   "metadata": {},
   "outputs": [
    {
     "data": {
      "text/plain": [
       "0          True\n",
       "1          True\n",
       "2          True\n",
       "3         False\n",
       "4         False\n",
       "          ...  \n",
       "555255    False\n",
       "555256     True\n",
       "555257     True\n",
       "555258    False\n",
       "555259    False\n",
       "Name: (Photon, isEE), Length: 528339, dtype: bool"
      ]
     },
     "execution_count": 39,
     "metadata": {},
     "output_type": "execute_result"
    }
   ],
   "source": [
    "df[('Photon','isEE')]"
   ]
  },
  {
   "cell_type": "code",
   "execution_count": 83,
   "metadata": {},
   "outputs": [
    {
     "data": {
      "text/plain": [
       "False    1243\n",
       "True      166\n",
       "Name: (Photon, isEE), dtype: int64"
      ]
     },
     "execution_count": 83,
     "metadata": {},
     "output_type": "execute_result"
    }
   ],
   "source": [
    "df[('Photon','isEE')].value_counts()"
   ]
  },
  {
   "cell_type": "markdown",
   "metadata": {},
   "source": [
    "## Prepare features\n",
    "\n",
    "Organize desired features into NumPy array `X_train`. Normalize features by mean and standardize by the standard deviation.\n"
   ]
  },
  {
   "cell_type": "code",
   "execution_count": 42,
   "metadata": {},
   "outputs": [],
   "source": [
    "features = [('Photon','pt'),('Photon','eta'),('Photon','phi'),('Photon','iEta'),('Photon','iPhi'),('Photon','rho'),('Photon','chargedHadIso03'),('Photon','neutralHadIso03'),('Photon','photonIso03'),('Photon','hadTowerOverEm'),('Photon','r9_5x5'),('Photon','sigmaIetaIeta5x5'),('Photon','sigmaIphiIphi5x5'),('Photon','sigmaIetaIphi5x5'),('Photon','maxEnergyXtal')]\n",
    "X = df[features].to_numpy()"
   ]
  },
  {
   "cell_type": "code",
   "execution_count": 43,
   "metadata": {},
   "outputs": [
    {
     "data": {
      "text/plain": [
       "(528339, 15)"
      ]
     },
     "execution_count": 43,
     "metadata": {},
     "output_type": "execute_result"
    }
   ],
   "source": [
    "X.shape"
   ]
  },
  {
   "cell_type": "code",
   "execution_count": 44,
   "metadata": {},
   "outputs": [],
   "source": [
    "scaler = preprocessing.StandardScaler().fit(X)"
   ]
  },
  {
   "cell_type": "code",
   "execution_count": 45,
   "metadata": {},
   "outputs": [],
   "source": [
    "X_scaled = scaler.transform(X)"
   ]
  },
  {
   "cell_type": "code",
   "execution_count": 46,
   "metadata": {},
   "outputs": [
    {
     "data": {
      "text/plain": [
       "(528339, 15)"
      ]
     },
     "execution_count": 46,
     "metadata": {},
     "output_type": "execute_result"
    }
   ],
   "source": [
    "X_scaled.shape"
   ]
  },
  {
   "cell_type": "code",
   "execution_count": 47,
   "metadata": {},
   "outputs": [
    {
     "data": {
      "image/png": "[encoded data removed]",
      "text/plain": [
       "<Figure size 432x288 with 1 Axes>"
      ]
     },
     "metadata": {
      "needs_background": "light"
     },
     "output_type": "display_data"
    }
   ],
   "source": [
    "plt.hist(x=X_scaled[:,0], bins=100,log=True);\n",
    "plt.xlabel('Scaled photon $p_T$ (GeV)', horizontalalignment='right', x=1.0);\n",
    "plt.ylabel('Events', horizontalalignment='right', y=1.0);"
   ]
  },
  {
   "cell_type": "markdown",
   "metadata": {},
   "source": [
    "## Feature Correlation\n",
    "\n",
    "- The strongest correlations are among the angular coordinates, shower shapes along the angular coordinates, and among the different energy variables"
   ]
  },
  {
   "cell_type": "code",
   "execution_count": 48,
   "metadata": {},
   "outputs": [],
   "source": [
    "corr = df[features].corr()"
   ]
  },
  {
   "cell_type": "code",
   "execution_count": 49,
   "metadata": {},
   "outputs": [
    {
     "data": {
      "image/png": "[encoded data removed]",
      "text/plain": [
       "<Figure size 432x288 with 2 Axes>"
      ]
     },
     "metadata": {
      "needs_background": "light"
     },
     "output_type": "display_data"
    }
   ],
   "source": [
    "sns.heatmap(corr);"
   ]
  },
  {
   "cell_type": "markdown",
   "metadata": {},
   "source": [
    "## Split dataset\n",
    "\n",
    "Let's divided the dataset into training and testing datasets."
   ]
  },
  {
   "cell_type": "code",
   "execution_count": 50,
   "metadata": {},
   "outputs": [],
   "source": [
    "from sklearn.model_selection import train_test_split\n",
    "X_train, X_test, Y_train, Y_test = train_test_split(X_scaled, Y, test_size=0.2)"
   ]
  },
  {
   "cell_type": "code",
   "execution_count": 51,
   "metadata": {},
   "outputs": [
    {
     "name": "stdout",
     "output_type": "stream",
     "text": [
      "Number of total examples: 528339\n",
      "Number of training examples: 422671\n",
      "Number of testing examples: 105668\n",
      "X_train shape: (422671, 15)\n",
      "Y_train shape: (422671,)\n",
      "X_test shape: (105668, 15)\n",
      "Y_test shape: (105668,)\n"
     ]
    }
   ],
   "source": [
    "print (\"Number of total examples: \" + str(X.shape[0]))\n",
    "print (\"Number of training examples: \" + str(X_train.shape[0]))\n",
    "print (\"Number of testing examples: \" + str(X_test.shape[0]))\n",
    "print (\"X_train shape: \" + str(X_train.shape))\n",
    "print (\"Y_train shape: \" + str(Y_train.shape))\n",
    "print (\"X_test shape: \" + str(X_test.shape))\n",
    "print (\"Y_test shape: \" + str(Y_test.shape))"
   ]
  },
  {
   "cell_type": "code",
   "execution_count": 190,
   "metadata": {},
   "outputs": [
    {
     "name": "stdout",
     "output_type": "stream",
     "text": [
      "Epoch 1/10\n",
      "13209/13209 [==============================] - 8s 590us/step - loss: 0.0139 - accuracy: 0.9979\n",
      "Epoch 2/10\n",
      "13209/13209 [==============================] - 7s 561us/step - loss: 0.0051 - accuracy: 0.9993\n",
      "Epoch 3/10\n",
      "13209/13209 [==============================] - 7s 561us/step - loss: 0.0048 - accuracy: 0.9993\n",
      "Epoch 4/10\n",
      "13209/13209 [==============================] - 7s 563us/step - loss: 0.0047 - accuracy: 0.9993\n",
      "Epoch 5/10\n",
      "13209/13209 [==============================] - 7s 561us/step - loss: 0.0046 - accuracy: 0.9993\n",
      "Epoch 6/10\n",
      "13209/13209 [==============================] - 7s 558us/step - loss: 0.0045 - accuracy: 0.9993\n",
      "Epoch 7/10\n",
      "13209/13209 [==============================] - 7s 555us/step - loss: 0.0044 - accuracy: 0.9993\n",
      "Epoch 8/10\n",
      "13209/13209 [==============================] - 8s 600us/step - loss: 0.0044 - accuracy: 0.9993\n",
      "Epoch 9/10\n",
      "13209/13209 [==============================] - 7s 557us/step - loss: 0.0043 - accuracy: 0.9993\n",
      "Epoch 10/10\n",
      "13209/13209 [==============================] - 7s 554us/step - loss: 0.0043 - accuracy: 0.9993\n"
     ]
    },
    {
     "data": {
      "text/plain": [
       "<keras.callbacks.History at 0x7ff3bccf2490>"
      ]
     },
     "execution_count": 190,
     "metadata": {},
     "output_type": "execute_result"
    }
   ],
   "source": [
    "# # Just using NN only\n",
    "# from tensorflow import keras\n",
    "# model = keras.Sequential([\n",
    "#      keras.layers.Dense(10, input_dim=len(features)), \n",
    "#      keras.layers.Dense(10, activation='relu'), # first hidden layer\n",
    "#      keras.layers.Dense(10, activation='relu'), # second hidden layer\n",
    "#      keras.layers.Dense(1, activation='sigmoid') # output layer\n",
    "# ])\n",
    "# model.compile(\n",
    "#     optimizer='SGD', # using SGM\n",
    "#     loss='binary_crossentropy',\n",
    "#     metrics=['accuracy']\n",
    "# )\n",
    "# model.fit(X_train, Y_train, epochs=10)"
   ]
  },
  {
   "cell_type": "code",
   "execution_count": 191,
   "metadata": {},
   "outputs": [
    {
     "name": "stdout",
     "output_type": "stream",
     "text": [
      "3303/3303 [==============================] - 2s 471us/step - loss: 0.0045 - accuracy: 0.9993\n"
     ]
    },
    {
     "data": {
      "text/plain": [
       "[0.0044538420625030994, 0.9993375539779663]"
      ]
     },
     "execution_count": 191,
     "metadata": {},
     "output_type": "execute_result"
    }
   ],
   "source": [
    "# model.evaluate(X_test, Y_test)"
   ]
  },
  {
   "cell_type": "code",
   "execution_count": 192,
   "metadata": {},
   "outputs": [
    {
     "name": "stdout",
     "output_type": "stream",
     "text": [
      "Classification Report: \n",
      "               precision    recall  f1-score   support\n",
      "\n",
      "           0       1.00      1.00      1.00    105598\n",
      "           1       0.00      0.00      0.00        70\n",
      "\n",
      "    accuracy                           1.00    105668\n",
      "   macro avg       0.50      0.50      0.50    105668\n",
      "weighted avg       1.00      1.00      1.00    105668\n",
      "\n"
     ]
    },
    {
     "name": "stderr",
     "output_type": "stream",
     "text": [
      "/Applications/anaconda3/lib/python3.8/site-packages/sklearn/metrics/_classification.py:1221: UndefinedMetricWarning: Precision and F-score are ill-defined and being set to 0.0 in labels with no predicted samples. Use `zero_division` parameter to control this behavior.\n",
      "  _warn_prf(average, modifier, msg_start, len(result))\n"
     ]
    }
   ],
   "source": [
    "# from sklearn.metrics import confusion_matrix, classification_report\n",
    "# y_pred = model.predict(X_test)\n",
    "# y_pred_classes=[np.argmax(i) for i in y_pred]\n",
    "# print(\"Classification Report: \\n\" , classification_report(Y_test, y_pred_classes))"
   ]
  },
  {
   "cell_type": "markdown",
   "metadata": {},
   "source": [
    "## Simple Logistic Regression Classifier\n",
    "\n",
    "We train a simple linear classifier using logistic regression to get a baseline for performance on this dataset."
   ]
  },
  {
   "cell_type": "code",
   "execution_count": 52,
   "metadata": {},
   "outputs": [],
   "source": [
    "clf = sklearn.linear_model.LogisticRegressionCV();\n",
    "clf.fit(X_train, Y_train);"
   ]
  },
  {
   "cell_type": "code",
   "execution_count": 53,
   "metadata": {},
   "outputs": [
    {
     "name": "stdout",
     "output_type": "stream",
     "text": [
      "Accuracy of logistic regression: 99% (training set)\n"
     ]
    }
   ],
   "source": [
    "LR_predictions_train = clf.predict(X_train)\n",
    "print ('Accuracy of logistic regression: %d' % float((np.dot(Y_train,LR_predictions_train) + np.dot(1-Y_train,1-LR_predictions_train))/float(Y_train.size)*100) +'% ' + \"(training set)\")"
   ]
  },
  {
   "cell_type": "code",
   "execution_count": 54,
   "metadata": {},
   "outputs": [
    {
     "name": "stdout",
     "output_type": "stream",
     "text": [
      "Accuracy of logistic regression: 99% (test set)\n"
     ]
    }
   ],
   "source": [
    "LR_predictions_test = clf.predict(X_test)\n",
    "print ('Accuracy of logistic regression: %d' % float((np.dot(Y_test,LR_predictions_test) + np.dot(1-Y_test,1-LR_predictions_test))/float(Y_test.size)*100) +'% ' + \"(test set)\")"
   ]
  },
  {
   "cell_type": "markdown",
   "metadata": {},
   "source": [
    "- The accuracy is promising; however, the classes are skewed so let's check the F1 score."
   ]
  },
  {
   "cell_type": "code",
   "execution_count": 55,
   "metadata": {},
   "outputs": [
    {
     "data": {
      "text/plain": [
       "0.0"
      ]
     },
     "execution_count": 55,
     "metadata": {},
     "output_type": "execute_result"
    }
   ],
   "source": [
    "sklearn.metrics.f1_score(Y_test, LR_predictions_test)"
   ]
  },
  {
   "cell_type": "code",
   "execution_count": 56,
   "metadata": {},
   "outputs": [
    {
     "data": {
      "text/plain": [
       "0.0"
      ]
     },
     "execution_count": 56,
     "metadata": {},
     "output_type": "execute_result"
    }
   ],
   "source": [
    "np.dot(Y_test,LR_predictions_test)/sum(Y_test==1)*100."
   ]
  },
  {
   "cell_type": "code",
   "execution_count": 57,
   "metadata": {},
   "outputs": [
    {
     "data": {
      "text/plain": [
       "100.0"
      ]
     },
     "execution_count": 57,
     "metadata": {},
     "output_type": "execute_result"
    }
   ],
   "source": [
    "np.dot(1-Y_test,1-LR_predictions_test)/sum(Y_test==0)*100."
   ]
  },
  {
   "cell_type": "markdown",
   "metadata": {},
   "source": [
    "## Nonlinear classifier\n",
    "\n",
    "We use a 4-layer deep neural network as our classifier, comprising 3 hidden layers. L2 regularization is used."
   ]
  },
  {
   "cell_type": "code",
   "execution_count": 58,
   "metadata": {},
   "outputs": [
    {
     "data": {
      "text/plain": [
       "MLPClassifier(alpha=0.01, hidden_layer_sizes=(10, 10, 4),\n",
       "              learning_rate_init=0.0001, max_iter=1500, random_state=1,\n",
       "              solver='lbfgs')"
      ]
     },
     "execution_count": 58,
     "metadata": {},
     "output_type": "execute_result"
    }
   ],
   "source": [
    "clf_NN = MLPClassifier(solver='lbfgs', alpha=1e-2, hidden_layer_sizes=(10,10,4), max_iter=1500, learning_rate_init=0.0001, random_state=1)\n",
    "clf_NN.fit(X_train,Y_train)"
   ]
  },
  {
   "cell_type": "code",
   "execution_count": 59,
   "metadata": {},
   "outputs": [
    {
     "name": "stdout",
     "output_type": "stream",
     "text": [
      "Accuracy of NN: 99% (training set)\n"
     ]
    }
   ],
   "source": [
    "NN_predictions_train = clf_NN.predict(X_train)\n",
    "print ('Accuracy of NN: %d' % float((np.dot(Y_train,NN_predictions_train) + np.dot(1-Y_train,1-NN_predictions_train))/float(Y_train.size)*100) +'% ' + \"(training set)\")"
   ]
  },
  {
   "cell_type": "code",
   "execution_count": 60,
   "metadata": {},
   "outputs": [
    {
     "name": "stdout",
     "output_type": "stream",
     "text": [
      "Accuracy of NN: 99% (test set)\n"
     ]
    }
   ],
   "source": [
    "NN_predictions_test = clf_NN.predict(X_test)\n",
    "print ('Accuracy of NN: %d' % float((np.dot(Y_test,NN_predictions_test) + np.dot(1-Y_test,1-NN_predictions_test))/float(Y_test.size)*100) +'% ' + \"(test set)\")"
   ]
  },
  {
   "cell_type": "code",
   "execution_count": 61,
   "metadata": {},
   "outputs": [
    {
     "data": {
      "text/plain": [
       "0.0"
      ]
     },
     "execution_count": 61,
     "metadata": {},
     "output_type": "execute_result"
    }
   ],
   "source": [
    "sklearn.metrics.f1_score(Y_test, NN_predictions_test)"
   ]
  },
  {
   "cell_type": "code",
   "execution_count": 62,
   "metadata": {},
   "outputs": [
    {
     "data": {
      "text/plain": [
       "0.0"
      ]
     },
     "execution_count": 62,
     "metadata": {},
     "output_type": "execute_result"
    }
   ],
   "source": [
    "np.dot(Y_test,NN_predictions_test)/sum(Y_test==1)*100."
   ]
  },
  {
   "cell_type": "code",
   "execution_count": 63,
   "metadata": {},
   "outputs": [
    {
     "data": {
      "text/plain": [
       "100.0"
      ]
     },
     "execution_count": 63,
     "metadata": {},
     "output_type": "execute_result"
    }
   ],
   "source": [
    "np.dot(1-Y_test,1-NN_predictions_test)/sum(Y_test==0)*100."
   ]
  },
  {
   "cell_type": "markdown",
   "metadata": {},
   "source": [
    "# DNN with Keras"
   ]
  },
  {
   "cell_type": "code",
   "execution_count": 64,
   "metadata": {},
   "outputs": [],
   "source": [
    "classifier = Sequential()\n",
    "classifier.add(Dense(10, activation='relu', kernel_initializer='normal', input_dim=len(features)))\n",
    "classifier.add(Dense(10, activation='relu', kernel_initializer='normal'))\n",
    "classifier.add(Dense(4, activation='relu', kernel_initializer='normal'))\n",
    "classifier.add(Dense(1, activation='sigmoid', kernel_initializer='normal'))"
   ]
  },
  {
   "cell_type": "code",
   "execution_count": 65,
   "metadata": {},
   "outputs": [
    {
     "name": "stdout",
     "output_type": "stream",
     "text": [
      "Epoch 1/10\n",
      "4227/4227 [==============================] - 4s 709us/step - loss: 0.0300 - accuracy: 0.9993\n",
      "Epoch 2/10\n",
      "4227/4227 [==============================] - 3s 710us/step - loss: 0.0046 - accuracy: 0.9993\n",
      "Epoch 3/10\n",
      "4227/4227 [==============================] - 3s 722us/step - loss: 0.0043 - accuracy: 0.9993\n",
      "Epoch 4/10\n",
      "4227/4227 [==============================] - 3s 707us/step - loss: 0.0043 - accuracy: 0.9993\n",
      "Epoch 5/10\n",
      "4227/4227 [==============================] - 3s 718us/step - loss: 0.0042 - accuracy: 0.9993\n",
      "Epoch 6/10\n",
      "4227/4227 [==============================] - 3s 709us/step - loss: 0.0042 - accuracy: 0.9993\n",
      "Epoch 7/10\n",
      "4227/4227 [==============================] - 3s 708us/step - loss: 0.0041 - accuracy: 0.9993\n",
      "Epoch 8/10\n",
      "4227/4227 [==============================] - 3s 700us/step - loss: 0.0041 - accuracy: 0.9993\n",
      "Epoch 9/10\n",
      "4227/4227 [==============================] - 3s 731us/step - loss: 0.0041 - accuracy: 0.9993\n",
      "Epoch 10/10\n",
      "4227/4227 [==============================] - 3s 778us/step - loss: 0.0041 - accuracy: 0.9993\n"
     ]
    },
    {
     "data": {
      "text/plain": [
       "<keras.callbacks.History at 0x7faf30b724f0>"
      ]
     },
     "execution_count": 65,
     "metadata": {},
     "output_type": "execute_result"
    }
   ],
   "source": [
    "classifier.compile(optimizer ='adam',loss='binary_crossentropy', metrics =['accuracy'])\n",
    "classifier.fit(X_train,Y_train, batch_size=100, epochs=10)"
   ]
  },
  {
   "cell_type": "code",
   "execution_count": 66,
   "metadata": {},
   "outputs": [
    {
     "name": "stdout",
     "output_type": "stream",
     "text": [
      "3303/3303 [==============================] - 2s 504us/step - loss: 0.0047 - accuracy: 0.9993\n"
     ]
    },
    {
     "data": {
      "text/plain": [
       "[0.004676843527704477, 0.9992523789405823]"
      ]
     },
     "execution_count": 66,
     "metadata": {},
     "output_type": "execute_result"
    }
   ],
   "source": [
    "classifier.evaluate(X_test, Y_test)"
   ]
  },
  {
   "cell_type": "code",
   "execution_count": 67,
   "metadata": {},
   "outputs": [],
   "source": [
    "Y_pred_keras = classifier.predict(X_test)"
   ]
  },
  {
   "cell_type": "code",
   "execution_count": 68,
   "metadata": {},
   "outputs": [],
   "source": [
    "Y_pred_keras = (Y_pred_keras > 0.5)"
   ]
  },
  {
   "cell_type": "code",
   "execution_count": 69,
   "metadata": {},
   "outputs": [
    {
     "name": "stdout",
     "output_type": "stream",
     "text": [
      "Accuracy of NN: 99% (test set)\n"
     ]
    }
   ],
   "source": [
    "print ('Accuracy of NN: %d' % float((np.dot(Y_test,Y_pred_keras) + np.dot(1-Y_test,1-Y_pred_keras))/float(Y_test.size)*100) +'% ' + \"(test set)\")"
   ]
  },
  {
   "cell_type": "code",
   "execution_count": 70,
   "metadata": {},
   "outputs": [
    {
     "data": {
      "text/plain": [
       "0.0"
      ]
     },
     "execution_count": 70,
     "metadata": {},
     "output_type": "execute_result"
    }
   ],
   "source": [
    "sklearn.metrics.f1_score(Y_test, Y_pred_keras)"
   ]
  },
  {
   "cell_type": "code",
   "execution_count": 71,
   "metadata": {},
   "outputs": [
    {
     "data": {
      "text/plain": [
       "0.0"
      ]
     },
     "execution_count": 71,
     "metadata": {},
     "output_type": "execute_result"
    }
   ],
   "source": [
    "np.squeeze(np.dot(Y_test,Y_pred_keras)/sum(Y_test==1))*100."
   ]
  },
  {
   "cell_type": "code",
   "execution_count": 72,
   "metadata": {},
   "outputs": [
    {
     "data": {
      "text/plain": [
       "100.0"
      ]
     },
     "execution_count": 72,
     "metadata": {},
     "output_type": "execute_result"
    }
   ],
   "source": [
    "np.squeeze(np.dot(1-Y_test,1-Y_pred_keras)/sum(Y_test==0))*100."
   ]
  },
  {
   "cell_type": "code",
   "execution_count": 74,
   "metadata": {},
   "outputs": [
    {
     "name": "stdout",
     "output_type": "stream",
     "text": [
      "Classification Report: \n",
      "               precision    recall  f1-score   support\n",
      "\n",
      "           0       1.00      1.00      1.00    105589\n",
      "           1       0.00      0.00      0.00        79\n",
      "\n",
      "    accuracy                           1.00    105668\n",
      "   macro avg       0.50      0.50      0.50    105668\n",
      "weighted avg       1.00      1.00      1.00    105668\n",
      "\n"
     ]
    },
    {
     "name": "stderr",
     "output_type": "stream",
     "text": [
      "/Applications/anaconda3/lib/python3.8/site-packages/sklearn/metrics/_classification.py:1221: UndefinedMetricWarning: Precision and F-score are ill-defined and being set to 0.0 in labels with no predicted samples. Use `zero_division` parameter to control this behavior.\n",
      "  _warn_prf(average, modifier, msg_start, len(result))\n"
     ]
    }
   ],
   "source": [
    "from sklearn.metrics import confusion_matrix, classification_report\n",
    "y_pred = classifier.predict(X_test)\n",
    "y_pred_classes=[np.argmax(i) for i in y_pred]\n",
    "print(\"Classification Report: \\n\" , classification_report(Y_test, y_pred_classes))"
   ]
  },
  {
   "cell_type": "markdown",
   "metadata": {},
   "source": [
    "# Test on Production Data\n",
    "\n",
    "We further check our classifier's performance by checking it on other data. First, we need to preprocess our features. This dataset is heavily skewed between classes."
   ]
  },
  {
   "cell_type": "code",
   "execution_count": 75,
   "metadata": {},
   "outputs": [],
   "source": [
    "GGJets = uproot.open(\"out_QCD_Pt_3200toInf_TuneCP5_13TeV_pythia8_RunIIAutumn18MiniAOD-102X_upgrade2018_realistic_v15_ext2-v2_numEvent5000_1.root:diphoton/fTreeFake\")\n",
    "\n",
    "\n"
   ]
  },
  {
   "cell_type": "code",
   "execution_count": 76,
   "metadata": {},
   "outputs": [],
   "source": [
    "df_test = GGJets.arrays(filter_name=['Photon','Event','PhotonGenMatch'], library = 'pd')"
   ]
  },
  {
   "cell_type": "code",
   "execution_count": 77,
   "metadata": {},
   "outputs": [
    {
     "data": {
      "text/html": [
       "<div>\n",
       "<style scoped>\n",
       "    .dataframe tbody tr th:only-of-type {\n",
       "        vertical-align: middle;\n",
       "    }\n",
       "\n",
       "    .dataframe tbody tr th {\n",
       "        vertical-align: top;\n",
       "    }\n",
       "\n",
       "    .dataframe thead tr th {\n",
       "        text-align: left;\n",
       "    }\n",
       "</style>\n",
       "<table border=\"1\" class=\"dataframe\">\n",
       "  <thead>\n",
       "    <tr>\n",
       "      <th></th>\n",
       "      <th colspan=\"10\" halign=\"left\">Event</th>\n",
       "      <th>...</th>\n",
       "      <th colspan=\"10\" halign=\"left\">PhotonGenMatch</th>\n",
       "    </tr>\n",
       "    <tr>\n",
       "      <th></th>\n",
       "      <th>run</th>\n",
       "      <th>LS</th>\n",
       "      <th>evnum</th>\n",
       "      <th>processid</th>\n",
       "      <th>bx</th>\n",
       "      <th>orbit</th>\n",
       "      <th>ptHat</th>\n",
       "      <th>alphaqcd</th>\n",
       "      <th>alphaqed</th>\n",
       "      <th>qscale</th>\n",
       "      <th>...</th>\n",
       "      <th>ptDiff_match</th>\n",
       "      <th>matchCategory</th>\n",
       "      <th>matchType</th>\n",
       "      <th>nPhotonMotherDaughters</th>\n",
       "      <th>status</th>\n",
       "      <th>motherStatus</th>\n",
       "      <th>grandmotherStatus</th>\n",
       "      <th>pdgId</th>\n",
       "      <th>motherPdgId</th>\n",
       "      <th>grandmotherPdgId</th>\n",
       "    </tr>\n",
       "  </thead>\n",
       "  <tbody>\n",
       "    <tr>\n",
       "      <th>0</th>\n",
       "      <td>1</td>\n",
       "      <td>63</td>\n",
       "      <td>124040</td>\n",
       "      <td>114</td>\n",
       "      <td>-1</td>\n",
       "      <td>-1</td>\n",
       "      <td>3518.259521</td>\n",
       "      <td>0.078520</td>\n",
       "      <td>0.008155</td>\n",
       "      <td>3518.259521</td>\n",
       "      <td>...</td>\n",
       "      <td>0.116790</td>\n",
       "      <td>1</td>\n",
       "      <td>5</td>\n",
       "      <td>10</td>\n",
       "      <td>1</td>\n",
       "      <td>44</td>\n",
       "      <td>23</td>\n",
       "      <td>22</td>\n",
       "      <td>2</td>\n",
       "      <td>2</td>\n",
       "    </tr>\n",
       "    <tr>\n",
       "      <th>1</th>\n",
       "      <td>1</td>\n",
       "      <td>63</td>\n",
       "      <td>124049</td>\n",
       "      <td>114</td>\n",
       "      <td>-1</td>\n",
       "      <td>-1</td>\n",
       "      <td>3406.442139</td>\n",
       "      <td>0.078747</td>\n",
       "      <td>0.008152</td>\n",
       "      <td>3406.442139</td>\n",
       "      <td>...</td>\n",
       "      <td>0.992110</td>\n",
       "      <td>1</td>\n",
       "      <td>1</td>\n",
       "      <td>2</td>\n",
       "      <td>1</td>\n",
       "      <td>2</td>\n",
       "      <td>2</td>\n",
       "      <td>22</td>\n",
       "      <td>111</td>\n",
       "      <td>223</td>\n",
       "    </tr>\n",
       "    <tr>\n",
       "      <th>2</th>\n",
       "      <td>1</td>\n",
       "      <td>63</td>\n",
       "      <td>124069</td>\n",
       "      <td>114</td>\n",
       "      <td>-1</td>\n",
       "      <td>-1</td>\n",
       "      <td>3319.923096</td>\n",
       "      <td>0.078930</td>\n",
       "      <td>0.008150</td>\n",
       "      <td>3319.923096</td>\n",
       "      <td>...</td>\n",
       "      <td>0.022480</td>\n",
       "      <td>1</td>\n",
       "      <td>5</td>\n",
       "      <td>18</td>\n",
       "      <td>1</td>\n",
       "      <td>23</td>\n",
       "      <td>21</td>\n",
       "      <td>22</td>\n",
       "      <td>2</td>\n",
       "      <td>2</td>\n",
       "    </tr>\n",
       "    <tr>\n",
       "      <th>3</th>\n",
       "      <td>1</td>\n",
       "      <td>63</td>\n",
       "      <td>124071</td>\n",
       "      <td>113</td>\n",
       "      <td>-1</td>\n",
       "      <td>-1</td>\n",
       "      <td>3517.509033</td>\n",
       "      <td>0.078521</td>\n",
       "      <td>0.008155</td>\n",
       "      <td>3517.509033</td>\n",
       "      <td>...</td>\n",
       "      <td>0.031469</td>\n",
       "      <td>1</td>\n",
       "      <td>5</td>\n",
       "      <td>31</td>\n",
       "      <td>1</td>\n",
       "      <td>44</td>\n",
       "      <td>23</td>\n",
       "      <td>22</td>\n",
       "      <td>2</td>\n",
       "      <td>2</td>\n",
       "    </tr>\n",
       "    <tr>\n",
       "      <th>4</th>\n",
       "      <td>1</td>\n",
       "      <td>63</td>\n",
       "      <td>124159</td>\n",
       "      <td>114</td>\n",
       "      <td>-1</td>\n",
       "      <td>-1</td>\n",
       "      <td>3266.912354</td>\n",
       "      <td>0.079044</td>\n",
       "      <td>0.008148</td>\n",
       "      <td>3266.912354</td>\n",
       "      <td>...</td>\n",
       "      <td>0.012744</td>\n",
       "      <td>1</td>\n",
       "      <td>2</td>\n",
       "      <td>14</td>\n",
       "      <td>1</td>\n",
       "      <td>4</td>\n",
       "      <td>-9999999</td>\n",
       "      <td>22</td>\n",
       "      <td>2212</td>\n",
       "      <td>-9999999</td>\n",
       "    </tr>\n",
       "  </tbody>\n",
       "</table>\n",
       "<p>5 rows × 124 columns</p>\n",
       "</div>"
      ],
      "text/plain": [
       "  Event                                                                  \\\n",
       "    run  LS   evnum processid bx orbit        ptHat  alphaqcd  alphaqed   \n",
       "0     1  63  124040       114 -1    -1  3518.259521  0.078520  0.008155   \n",
       "1     1  63  124049       114 -1    -1  3406.442139  0.078747  0.008152   \n",
       "2     1  63  124069       114 -1    -1  3319.923096  0.078930  0.008150   \n",
       "3     1  63  124071       113 -1    -1  3517.509033  0.078521  0.008155   \n",
       "4     1  63  124159       114 -1    -1  3266.912354  0.079044  0.008148   \n",
       "\n",
       "                ... PhotonGenMatch                          \\\n",
       "        qscale  ...   ptDiff_match matchCategory matchType   \n",
       "0  3518.259521  ...       0.116790             1         5   \n",
       "1  3406.442139  ...       0.992110             1         1   \n",
       "2  3319.923096  ...       0.022480             1         5   \n",
       "3  3517.509033  ...       0.031469             1         5   \n",
       "4  3266.912354  ...       0.012744             1         2   \n",
       "\n",
       "                                                                      \\\n",
       "  nPhotonMotherDaughters status motherStatus grandmotherStatus pdgId   \n",
       "0                     10      1           44                23    22   \n",
       "1                      2      1            2                 2    22   \n",
       "2                     18      1           23                21    22   \n",
       "3                     31      1           44                23    22   \n",
       "4                     14      1            4          -9999999    22   \n",
       "\n",
       "                                \n",
       "  motherPdgId grandmotherPdgId  \n",
       "0           2                2  \n",
       "1         111              223  \n",
       "2           2                2  \n",
       "3           2                2  \n",
       "4        2212         -9999999  \n",
       "\n",
       "[5 rows x 124 columns]"
      ]
     },
     "execution_count": 77,
     "metadata": {},
     "output_type": "execute_result"
    }
   ],
   "source": [
    "df_test.head()"
   ]
  },
  {
   "cell_type": "code",
   "execution_count": 78,
   "metadata": {},
   "outputs": [
    {
     "data": {
      "text/plain": [
       "1409"
      ]
     },
     "execution_count": 78,
     "metadata": {},
     "output_type": "execute_result"
    }
   ],
   "source": [
    "df_test = df_test[df_test[('Photon','passHighPtID')] == 1]\n",
    "df_test = df_test[(df_test[('Photon','isEB')]==True) | (df_test[('Photon','isEE')]==True)]\n",
    "df_test = df_test[(df_test[('Photon','pt')] > 50.0) & (df_test[('Photon','sigmaIphiIphi5x5')] > 0.009)]\n",
    "len(df_test)"
   ]
  },
  {
   "cell_type": "code",
   "execution_count": 79,
   "metadata": {},
   "outputs": [],
   "source": [
    "df_test['fake'] = df_test.apply(is_fake, axis=1)"
   ]
  },
  {
   "cell_type": "code",
   "execution_count": 80,
   "metadata": {},
   "outputs": [
    {
     "data": {
      "text/plain": [
       "0    1400\n",
       "1       9\n",
       "Name: fake, dtype: int64"
      ]
     },
     "execution_count": 80,
     "metadata": {},
     "output_type": "execute_result"
    }
   ],
   "source": [
    "df_test['fake'].value_counts()"
   ]
  },
  {
   "cell_type": "code",
   "execution_count": 81,
   "metadata": {},
   "outputs": [],
   "source": [
    "Y_prod = df_test['fake'].to_numpy()\n",
    "X_prod = df_test[features].to_numpy()"
   ]
  },
  {
   "cell_type": "code",
   "execution_count": 82,
   "metadata": {},
   "outputs": [],
   "source": [
    "X_prod_scaled = scaler.transform(X_prod)"
   ]
  },
  {
   "cell_type": "code",
   "execution_count": 83,
   "metadata": {},
   "outputs": [
    {
     "name": "stdout",
     "output_type": "stream",
     "text": [
      "Accuracy of NN: 99% (production test set)\n"
     ]
    }
   ],
   "source": [
    "NN_predictions_prod = clf_NN.predict(X_prod_scaled)\n",
    "print ('Accuracy of NN: %d' % float((np.dot(Y_prod,NN_predictions_prod) + np.dot(1-Y_prod,1-NN_predictions_prod))/float(Y_prod.size)*100) +'% ' + \"(production test set)\")"
   ]
  },
  {
   "cell_type": "code",
   "execution_count": 84,
   "metadata": {},
   "outputs": [
    {
     "data": {
      "text/plain": [
       "0.0"
      ]
     },
     "execution_count": 84,
     "metadata": {},
     "output_type": "execute_result"
    }
   ],
   "source": [
    "sklearn.metrics.f1_score(Y_prod, NN_predictions_prod)"
   ]
  },
  {
   "cell_type": "code",
   "execution_count": 85,
   "metadata": {},
   "outputs": [
    {
     "data": {
      "text/plain": [
       "0.0"
      ]
     },
     "execution_count": 85,
     "metadata": {},
     "output_type": "execute_result"
    }
   ],
   "source": [
    "np.dot(Y_prod,NN_predictions_prod)/sum(Y_prod==1)*100."
   ]
  },
  {
   "cell_type": "code",
   "execution_count": 227,
   "metadata": {},
   "outputs": [
    {
     "data": {
      "text/plain": [
       "100.0"
      ]
     },
     "execution_count": 227,
     "metadata": {},
     "output_type": "execute_result"
    }
   ],
   "source": [
    "np.dot(1-Y_prod,1-NN_predictions_prod)/sum(Y_prod==0)*100."
   ]
  },
  {
   "cell_type": "code",
   "execution_count": null,
   "metadata": {},
   "outputs": [],
   "source": []
  }
 ],
 "metadata": {
  "kernelspec": {
   "display_name": "Python 3",
   "language": "python",
   "name": "python3"
  },
  "language_info": {
   "codemirror_mode": {
    "name": "ipython",
    "version": 3
   },
   "file_extension": ".py",
   "mimetype": "text/x-python",
   "name": "python",
   "nbconvert_exporter": "python",
   "pygments_lexer": "ipython3",
   "version": "3.8.3"
  }
 },
 "nbformat": 4,
 "nbformat_minor": 2
}
